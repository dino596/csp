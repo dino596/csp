{
 "cells": [
  {
   "cell_type": "markdown",
   "metadata": {},
   "source": [
    "---\n",
    "toc: True\n",
    "comments: False\n",
    "layout: post\n",
    "title: Developing Algorithms \n",
    "type: hacks\n",
    "courses: {'compsci': {'week': 9}}\n",
    "---"
   ]
  },
  {
   "cell_type": "markdown",
   "metadata": {},
   "source": [
    "## What are Algorithims?"
   ]
  },
  {
   "cell_type": "markdown",
   "metadata": {},
   "source": [
    "Whats the difference between these two math problems:\n",
    "(3+1)3 + 89 + 4(2+8)\n",
    "3(1+3) + 8(1+4) + 89\n",
    "\n",
    "Nothing! They are just two different ways of doing them!\n",
    "\n",
    "Whats the difference between these two math problems:\n",
    "3((9-6)+7) + 7 - (9+8)\n",
    "3(9-(6+7)) + 7 - 9 + 8\n",
    "\n",
    "A lot! This changes the output by quite a bit!\n",
    "\n",
    "Here are examples of this basic concept in terms of programming:"
   ]
  },
  {
   "cell_type": "code",
   "execution_count": null,
   "metadata": {},
   "outputs": [],
   "source": [
    "print(\"What is the temperature outside °F?\")\n",
    "temp = int(input())\n",
    "if temp > 85:\n",
    "    print(\"It is too hot outside!\")\n",
    "elif temp >= 65:\n",
    "    print(\"Sure, I will play outside!\")\n",
    "else:\n",
    "    print(\"It is too cold outside!\")"
   ]
  },
  {
   "cell_type": "code",
   "execution_count": null,
   "metadata": {},
   "outputs": [],
   "source": [
    "print(\"What is the temperature outside °F?\")\n",
    "temp = int(input())\n",
    "if temp == 85:\n",
    "    print(\"It is too hot outside!\")\n",
    "if temp == 65:\n",
    "    print(\"Sure, I will play outside!\")\n",
    "if temp < 65:\n",
    "    print(\"It is too cold outside!\")"
   ]
  },
  {
   "cell_type": "markdown",
   "metadata": {},
   "source": [
    "### Didn't get it?  \n",
    "Hint: \n",
    "- What if I input 60 degrees °F?\n",
    "- What if I input 90 degrees °F?\n"
   ]
  },
  {
   "cell_type": "markdown",
   "metadata": {},
   "source": [
    "Hack #1: What is the difference between these two pieces of code? (in terms of their output)"
   ]
  },
  {
   "cell_type": "code",
   "execution_count": null,
   "metadata": {},
   "outputs": [],
   "source": [
    "num = 1\n",
    "while num <= 100:\n",
    "    if num % 4 != 0:\n",
    "        print(num, end=' ')\n",
    "    num += 1"
   ]
  },
  {
   "cell_type": "code",
   "execution_count": null,
   "metadata": {},
   "outputs": [],
   "source": [
    "def print_numbers():\n",
    "    for i in range(1, 101):\n",
    "        if i % 4 != 0:\n",
    "            print(i)\n",
    "\n",
    "print_numbers()"
   ]
  },
  {
   "cell_type": "markdown",
   "metadata": {},
   "source": [
    "So when developing algorithms, different pieces of code could do the same thing, and two similar pieces of code could do very different things. "
   ]
  },
  {
   "cell_type": "markdown",
   "metadata": {},
   "source": [
    "# Data Collections\n",
    "\n",
    "### Purpose of Data Collection\n",
    "To gather accurate and relevant information for specific purposes, such as solving problems, making informed decisions, or predicting future trends.\n",
    "\n",
    "### Techniques\n",
    "Surveys and Questionnaires: Structured methods for gathering data from a large number of respondents. They can be administered in-person, online, or through other mediums.\n",
    "\n",
    "Observations: Watching and recording actions or behaviors in a systematic manner.\n",
    "\n",
    "Experiments: Conducting controlled tests or trials to determine cause and effect relationships.\n",
    "\n",
    "Simulations: Using models to imitate real-world situations.\n",
    "\n",
    "Interviews: One-on-one or group discussions to gain in-depth insights.\n",
    "\n",
    "Sensors and Automated Collection: Using electronic devices to automatically collect data, like temperature sensors or traffic cameras.\n",
    "\n",
    "Sampling: Instead of studying an entire population, a subset (or sample) can be studied to make inferences about the entire group.\n",
    "\n",
    "Techniques include random sampling, stratified sampling, and convenience sampling.\n",
    "\n",
    "### Bias and Error\n",
    "Data collection methods can introduce bias or error. It's crucial to be aware of potential sources of bias, like leading questions in surveys or non-random sampling methods.\n",
    "\n",
    "### Privacy and Ethics\n",
    "Always consider the ethical implications of data collection. Obtain consent when necessary, anonymize data to protect individuals' privacy, and be transparent about how data will be used.\n"
   ]
  },
  {
   "cell_type": "markdown",
   "metadata": {},
   "source": [
    "Hack #2:"
   ]
  },
  {
   "cell_type": "code",
   "execution_count": 4,
   "metadata": {},
   "outputs": [],
   "source": [
    "def find_max(numbers):\n",
    "    max_value = numbers[0]\n",
    "    for number in numbers:\n",
    "        if number > max_value:\n",
    "            max_value = number\n",
    "    return max_value\n",
    "#List of numbers\n",
    "numbers = [23, 45, 67, 89, 12, 34, 56, 78]\n",
    "\n",
    "max_value = find_max(numbers)\n",
    "print(max_value)\n"
   ]
  },
  {
   "cell_type": "markdown",
   "metadata": {},
   "source": [
    "List of numbers\n",
    "numbers = [23, 45, 67, 89, 12, 34, 56, 78]\n",
    "\n",
    "TODO: Modify the given algorithm to find the minimum value in the list of numbers.\n",
    "Hint: You only need to change two lines of code."
   ]
  },
  {
   "cell_type": "code",
   "execution_count": 2,
   "metadata": {},
   "outputs": [
    {
     "name": "stdout",
     "output_type": "stream",
     "text": [
      "12\n"
     ]
    }
   ],
   "source": [
    "# Place your code here...\n",
    "\n",
    "def find_min(numbers):\n",
    "    min_value = numbers[0]\n",
    "    for number in numbers:\n",
    "        if number < min_value:\n",
    "            min_value = number\n",
    "            \n",
    "    return min_value\n",
    "\n",
    "numbers = [23, 45, 67 , 89, 12, 34, 56, 78]\n",
    "\n",
    "min_value = find_min(numbers)\n",
    "print(min_value)"
   ]
  },
  {
   "cell_type": "markdown",
   "metadata": {},
   "source": [
    "Solution:\n",
    "\n",
    "Modified Algorithm to find the minimum value."
   ]
  },
  {
   "cell_type": "code",
   "execution_count": 6,
   "metadata": {},
   "outputs": [
    {
     "ename": "SyntaxError",
     "evalue": "invalid syntax (335410965.py, line 8)",
     "output_type": "error",
     "traceback": [
      "\u001b[0;36m  Cell \u001b[0;32mIn[6], line 8\u001b[0;36m\u001b[0m\n\u001b[0;31m    Calling the function\u001b[0m\n\u001b[0m            ^\u001b[0m\n\u001b[0;31mSyntaxError\u001b[0m\u001b[0;31m:\u001b[0m invalid syntax\n"
     ]
    }
   ],
   "source": [
    "def find_min(numbers):\n",
    "    min_value = numbers[0]\n",
    "    for number in numbers:\n",
    "        if number < min_value:\n",
    "            min_value = number\n",
    "    return min_value\n",
    "\n",
    "#alling the function\n",
    "min_value = find_min(numbers)\n",
    "print(min_value)  # Output: 12 "
   ]
  },
  {
   "cell_type": "markdown",
   "metadata": {},
   "source": [
    "# Creating/Modifying Algorithms\n",
    "\n",
    "Important steps for creating an algorithm:\n",
    "- Define functions\n",
    "- Initialize ways to store data (array, lists, dictionaries, etc…)\n",
    "- Depending on the context, use iteration to specify conditions for variable\n",
    "- Output generated values from the algorithm\n",
    "\n",
    "Helpful tips for modifying algorithms:\n",
    "- Understand the algorithm so you're able to easily apply changes to it.\n",
    "- Break the program down into chunks.\n",
    "- Focus on each small part of the algorithm to get it to work.\n",
    "- Make sure to test individual components, and then the whole code together (This makes identifying errors, and correcting mistakes easier).\n",
    "\n",
    "Example (The sum of all even numbers between 1 and a given positive integer):\n"
   ]
  },
  {
   "cell_type": "code",
   "execution_count": null,
   "metadata": {},
   "outputs": [],
   "source": [
    "def sum_of_evens(n):\n",
    "    total = 0\n",
    "    for i in range(2, n + 1, 2): #Note the 2 and the very end initializes a step size of 2 for the function\n",
    "        total += i\n",
    "    return total\n",
    "\n",
    "n = int(input(\"Enter a positive integer: \"))\n",
    "result = sum_of_evens(n)\n",
    "print(f\"The sum of even numbers from 1 to {n} is {result}\")"
   ]
  },
  {
   "cell_type": "markdown",
   "metadata": {},
   "source": [
    "Hack #3:"
   ]
  },
  {
   "cell_type": "markdown",
   "metadata": {},
   "source": [
    "TODO: Adapt the above algorithm to output for the sum of odd numbers between 1 and a given integer. \n",
    "\n",
    "Try to come up with a unique algorithm (way) to achieve the above task."
   ]
  },
  {
   "cell_type": "code",
   "execution_count": 5,
   "metadata": {},
   "outputs": [
    {
     "name": "stdout",
     "output_type": "stream",
     "text": [
      "enter a postive integer:  12\n"
     ]
    },
    {
     "name": "stdout",
     "output_type": "stream",
     "text": [
      "the sum of odd numbers from 1 to 12 is 36\n"
     ]
    }
   ],
   "source": [
    "# Place your code here...\n",
    "def sum_of_odds(n):\n",
    "    total = 0\n",
    "    for i in range(1, n+1, 2):\n",
    "        total += i\n",
    "    return total\n",
    "\n",
    "n = int(input(\"enter a postive integer: \"))\n",
    "result = sum_of_odds(n)\n",
    "print(f\"the sum of odd numbers from 1 to {n} is {result}\")"
   ]
  },
  {
   "cell_type": "markdown",
   "metadata": {},
   "source": [
    "Solution:\n",
    "\n",
    "Think about how you would define an odd number, and output the sum of each element."
   ]
  },
  {
   "cell_type": "code",
   "execution_count": null,
   "metadata": {},
   "outputs": [],
   "source": [
    "def sum_of_odd_numbers(n):\n",
    "    total = 0\n",
    "\n",
    "    for i in range(1, n + 1):\n",
    "        if i % 2 != 0:  # Check if the number is odd\n",
    "            total += i\n",
    "\n",
    "    return total\n",
    "\n",
    "n = int(input(\"Enter a value for n: \"))\n",
    "result = sum_of_odd_numbers(n)\n",
    "print(f\"The sum of odd numbers from 1 to {n} is: {result}\")"
   ]
  },
  {
   "cell_type": "markdown",
   "metadata": {},
   "source": [
    "# Random Number Generation\n",
    "\n",
    "RANDOM (a, b) generates a number from a to b inclusive.\n",
    "Each result from the randomization is equally likely to occur.\n",
    "Using random number generation in a program means each execution may produce a different result.\n",
    "We can use the results from randomization to program simulations.\n",
    "\n",
    "What are the possibities for Answ3?\n",
    "Answ1 (0,2) #This means Answ1 can be anywhere from 0 to 2\n",
    "Answ2 (1,5) #This means Answ1 can be anywhere from 1 to 5\n",
    "Answ3 = Answ1 + Answ2\n",
    "\n",
    "﻿The lowest number answ1 will generate is 0 and the lowest number answ2 will generate is 1.\n",
    "Therefore, the lowest number answ3 could be is 1.\n",
    "The highest number answ1 will generate is 2 and the highest number answ2 will generate is 5.\n",
    "Therefore, the highest number answ3 could be is 7."
   ]
  },
  {
   "cell_type": "markdown",
   "metadata": {},
   "source": [
    "Generating Random Values:\n",
    " - In AP CSP, students learn to generate random values using certain code constructs, like the random module in Python which allows for random integer generation between specified values using random.randint(a, b)​1​. This random number generation introduces an element of unpredictability, vital for many programming applications.\n",
    "Application in Simulations:\n",
    "- Random values are crucial in simulations, mimicking real-world unpredictability. They help in creating diverse scenarios in simulations like weather patterns or game dynamics, thus providing a more realistic or varied simulation experience.\n",
    "Evaluating Code Segments:\n",
    "- Utilizing random values can aid in evaluating code segments by testing how code reacts to varied input, which is particularly useful in identifying potential bugs or inefficiencies.\n"
   ]
  },
  {
   "cell_type": "markdown",
   "metadata": {},
   "source": [
    "If you roll a die 3 times, and take the sum of all your rolls, what is the highest possible amount and the lowest possible amount you can get? \n",
    "\n",
    "Roll 1 (1,6)\n",
    "Roll 2 (1,6)\n",
    "Roll 3 (1,6)\n",
    "\n",
    "Lowest: 3\n",
    "Most: 18"
   ]
  },
  {
   "cell_type": "code",
   "execution_count": null,
   "metadata": {},
   "outputs": [],
   "source": [
    "import random\n",
    "\n",
    "def generate_random():\n",
    "    value = random.randint(1, 100)\n",
    "    print(f'Random value between 1 and 100: {value}')\n",
    "\n",
    "    dice_roll = random.randint(1, 6)\n",
    "    print(f'Dice Roll: {dice_roll}')\n",
    "\n",
    "# Call the function\n",
    "generate_random()"
   ]
  },
  {
   "cell_type": "markdown",
   "metadata": {},
   "source": [
    "Hack #4"
   ]
  },
  {
   "cell_type": "markdown",
   "metadata": {},
   "source": [
    "Lets continue the fun...\n",
    "Make an algorithm that assigns 5 days with a random temperatures between 60-90 degrees Fahrenheit! "
   ]
  },
  {
   "cell_type": "code",
   "execution_count": 10,
   "metadata": {},
   "outputs": [
    {
     "name": "stdout",
     "output_type": "stream",
     "text": [
      "day 1: 88 degrees F\n",
      "day 2: 68 degrees F\n",
      "day 3: 60 degrees F\n",
      "day 4: 77 degrees F\n",
      "day 5: 81 degrees F\n"
     ]
    }
   ],
   "source": [
    "# Place your code here...\n",
    "import random\n",
    "\n",
    "def generate_random():\n",
    "    value = random.randint(60, 90)\n",
    "    return value\n",
    "\n",
    "for i in range(5):\n",
    "    print(f\"day {i+1}: {generate_random()} degrees F\")"
   ]
  },
  {
   "cell_type": "markdown",
   "metadata": {},
   "source": [
    "Solution: \n",
    "\n",
    "How can you iterate between a range of 5 days, along with generate a random temperature between 60-90?"
   ]
  },
  {
   "cell_type": "code",
   "execution_count": null,
   "metadata": {},
   "outputs": [],
   "source": [
    "import random\n",
    "\n",
    "def simulate_weather():\n",
    "    for day in range(1, 6):\n",
    "        temperature = random.randint(60, 90)\n",
    "        print(f'Day {day}: Temperature: {temperature}°F')\n",
    "\n",
    "# Call the function\n",
    "simulate_weather()"
   ]
  },
  {
   "cell_type": "markdown",
   "metadata": {},
   "source": [
    "# Homework: \n",
    "\n",
    "1. Create a program that follows the Collatz Conjecture. \n",
    "\n",
    "If a number is even, divide by 2.\n",
    "\n",
    "If a number is odd, multiply by 3 and add 1.\n",
    "\n",
    "If implemented correctly this algorithm will eventually go to 1. Try defining the initial number with any number beside 1 to see an interesting ouput. Output the result as a list. You may set a starting value for the list, so that the program can generate the list of numbers created when following the process. \n",
    "\n",
    "Ideas for above 90%:\n",
    "Try implementing user input into this program. Ask the user to enter a number they would like to start with. \n"
   ]
  },
  {
   "cell_type": "code",
   "execution_count": 28,
   "metadata": {},
   "outputs": [
    {
     "name": "stdout",
     "output_type": "stream",
     "text": [
      "enter a positive integer: 2098093850295\n"
     ]
    },
    {
     "name": "stdout",
     "output_type": "stream",
     "text": [
      "2098093850295 -> 6294281550886 -> 3147140775443 -> 9441422326330 -> 4720711163165 -> 14162133489496 -> 7081066744748 -> 3540533372374 -> 1770266686187 -> 5310800058562 -> 2655400029281 -> 7966200087844 -> 3983100043922 -> 1991550021961 -> 5974650065884 -> 2987325032942 -> 1493662516471 -> 4480987549414 -> 2240493774707 -> 6721481324122 -> 3360740662061 -> 10082221986184 -> 5041110993092 -> 2520555496546 -> 1260277748273 -> 3780833244820 -> 1890416622410 -> 945208311205 -> 2835624933616 -> 1417812466808 -> 708906233404 -> 354453116702 -> 177226558351 -> 531679675054 -> 265839837527 -> 797519512582 -> 398759756291 -> 1196279268874 -> 598139634437 -> 1794418903312 -> 897209451656 -> 448604725828 -> 224302362914 -> 112151181457 -> 336453544372 -> 168226772186 -> 84113386093 -> 252340158280 -> 126170079140 -> 63085039570 -> 31542519785 -> 94627559356 -> 47313779678 -> 23656889839 -> 70970669518 -> 35485334759 -> 106456004278 -> 53228002139 -> 159684006418 -> 79842003209 -> 239526009628 -> 119763004814 -> 59881502407 -> 179644507222 -> 89822253611 -> 269466760834 -> 134733380417 -> 404200141252 -> 202100070626 -> 101050035313 -> 303150105940 -> 151575052970 -> 75787526485 -> 227362579456 -> 113681289728 -> 56840644864 -> 28420322432 -> 14210161216 -> 7105080608 -> 3552540304 -> 1776270152 -> 888135076 -> 444067538 -> 222033769 -> 666101308 -> 333050654 -> 166525327 -> 499575982 -> 249787991 -> 749363974 -> 374681987 -> 1124045962 -> 562022981 -> 1686068944 -> 843034472 -> 421517236 -> 210758618 -> 105379309 -> 316137928 -> 158068964 -> 79034482 -> 39517241 -> 118551724 -> 59275862 -> 29637931 -> 88913794 -> 44456897 -> 133370692 -> 66685346 -> 33342673 -> 100028020 -> 50014010 -> 25007005 -> 75021016 -> 37510508 -> 18755254 -> 9377627 -> 28132882 -> 14066441 -> 42199324 -> 21099662 -> 10549831 -> 31649494 -> 15824747 -> 47474242 -> 23737121 -> 71211364 -> 35605682 -> 17802841 -> 53408524 -> 26704262 -> 13352131 -> 40056394 -> 20028197 -> 60084592 -> 30042296 -> 15021148 -> 7510574 -> 3755287 -> 11265862 -> 5632931 -> 16898794 -> 8449397 -> 25348192 -> 12674096 -> 6337048 -> 3168524 -> 1584262 -> 792131 -> 2376394 -> 1188197 -> 3564592 -> 1782296 -> 891148 -> 445574 -> 222787 -> 668362 -> 334181 -> 1002544 -> 501272 -> 250636 -> 125318 -> 62659 -> 187978 -> 93989 -> 281968 -> 140984 -> 70492 -> 35246 -> 17623 -> 52870 -> 26435 -> 79306 -> 39653 -> 118960 -> 59480 -> 29740 -> 14870 -> 7435 -> 22306 -> 11153 -> 33460 -> 16730 -> 8365 -> 25096 -> 12548 -> 6274 -> 3137 -> 9412 -> 4706 -> 2353 -> 7060 -> 3530 -> 1765 -> 5296 -> 2648 -> 1324 -> 662 -> 331 -> 994 -> 497 -> 1492 -> 746 -> 373 -> 1120 -> 560 -> 280 -> 140 -> 70 -> 35 -> 106 -> 53 -> 160 -> 80 -> 40 -> 20 -> 10 -> 5 -> 16 -> 8 -> 4 -> 2 -> 1\n",
      "num of terms: 223\n"
     ]
    }
   ],
   "source": [
    "# Place your code here...\n",
    "num = int(input(\"enter a positive integer:\"))\n",
    "nums = [num]\n",
    "\n",
    "def collatz(n):\n",
    "    if n % 2 == 0:\n",
    "        n //= 2\n",
    "    elif n % 2 == 1:\n",
    "        n *= 3\n",
    "        n += 1  \n",
    "    return n\n",
    "\n",
    "while num != 1:\n",
    "    num = collatz(num)\n",
    "    nums.append(num)\n",
    "    \n",
    "for i in range(len(nums) - 1):\n",
    "    print(nums[i], \"->\", end=\" \")\n",
    "print(nums[-1])\n",
    "print(\"num of terms:\", len(nums))"
   ]
  },
  {
   "cell_type": "markdown",
   "metadata": {},
   "source": [
    "2. Create an algorithm that generates terms to the Fibonacci Sequence which outputs a specific number of terms defined in your code. The sequence starts off like 1, 1, 2, 3, 5, … each following term being the sum of the previous two.\n",
    "\n",
    "Ideas for above 90%:\n",
    "\n",
    "- Add user input\n",
    "- Display error message when an invalid input is specified\n",
    "- Find a way for the program to only specify a specific term in the sequence"
   ]
  },
  {
   "cell_type": "code",
   "execution_count": 3,
   "metadata": {},
   "outputs": [
    {
     "name": "stdout",
     "output_type": "stream",
     "text": [
      "enter a positive integer: 10\n"
     ]
    },
    {
     "name": "stdout",
     "output_type": "stream",
     "text": [
      "F(1): 0\n",
      "F(2): 1\n",
      "F(3): 1\n",
      "F(4): 2\n",
      "F(5): 3\n",
      "F(6): 5\n",
      "F(7): 8\n",
      "F(8): 13\n",
      "F(9): 21\n",
      "F(10): 34\n"
     ]
    }
   ],
   "source": [
    "# Place your code here...\n",
    "def fib(num):\n",
    "    if num == 1:\n",
    "        return 0\n",
    "    if num == 2:\n",
    "        return 1\n",
    "    return fib(num-1) + fib(num-2) \n",
    "\n",
    "num = int(input(\"enter a positive integer:\"))\n",
    "for i in range(num):\n",
    "    print(f\"F({i+1}):\", fib(i+1))"
   ]
  },
  {
   "cell_type": "markdown",
   "metadata": {},
   "source": [
    "3. Make a statistics calculator that calculates the mean, median, and mode of a specific series. Do this using iteration and without the use of imported modules (like the statistics one) that allows you to call pre defined functions like mean, median, and mode. Each of these calculations follows an algorithm. \n",
    "\n",
    "Ideas for above 90%:\n",
    "\n",
    "- Randomly generate a list of numbers (you can define it as a list of 5) to apply the calculator to.\n",
    "- If you can, generate a random number of elements in the data set as well (keep it between 5-10 elements). "
   ]
  },
  {
   "cell_type": "code",
   "execution_count": 45,
   "metadata": {},
   "outputs": [
    {
     "name": "stdout",
     "output_type": "stream",
     "text": [
      "[22, 10, 54, 23, 80, 61]\n",
      "41.666666666666664\n",
      "38.5\n",
      "no mode\n"
     ]
    }
   ],
   "source": [
    "# Place your code here...\n",
    "import random\n",
    "\n",
    "random_nums = []\n",
    "mode_nums = {}\n",
    "mode = []\n",
    "\n",
    "for i in range(random.randint(5,10)):\n",
    "    random_nums.append(random.randint(1,100))\n",
    "\n",
    "total = 0\n",
    "for num in range(len(random_nums)):\n",
    "    total += random_nums[num]\n",
    "\n",
    "mean = total/len(random_nums)\n",
    "\n",
    "if len(random_nums) % 2 == 0:\n",
    "    median = (random_nums[len(random_nums)//2] + random_nums[len(random_nums)//2 - 1])/2\n",
    "else:\n",
    "    median = random_nums[(len(random_nums)-1)//2]\n",
    "\n",
    "for num in random_nums:\n",
    "    if num in mode_nums:\n",
    "        mode_nums[num] += 1\n",
    "    else:\n",
    "        mode_nums[num] = 1\n",
    "\n",
    "count = max(mode_nums.values())\n",
    "if count == 1:\n",
    "    mode = \"no mode\"\n",
    "else:\n",
    "    for num, max_count in mode_nums.items():\n",
    "        if max_count == count:\n",
    "            mode.append(num)\n",
    "\n",
    "print(random_nums)\n",
    "print(mean)\n",
    "print(median)\n",
    "print(mode)"
   ]
  },
  {
   "cell_type": "code",
   "execution_count": null,
   "metadata": {},
   "outputs": [],
   "source": []
  },
  {
   "cell_type": "code",
   "execution_count": null,
   "metadata": {},
   "outputs": [],
   "source": []
  }
 ],
 "metadata": {
  "kernelspec": {
   "display_name": "Python 3 (ipykernel)",
   "language": "python",
   "name": "python3"
  },
  "language_info": {
   "codemirror_mode": {
    "name": "ipython",
    "version": 3
   },
   "file_extension": ".py",
   "mimetype": "text/x-python",
   "name": "python",
   "nbconvert_exporter": "python",
   "pygments_lexer": "ipython3",
   "version": "3.10.12"
  }
 },
 "nbformat": 4,
 "nbformat_minor": 4
}

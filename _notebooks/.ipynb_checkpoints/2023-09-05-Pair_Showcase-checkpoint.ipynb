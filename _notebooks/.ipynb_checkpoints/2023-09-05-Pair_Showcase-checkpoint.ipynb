{
 "cells": [
  {
   "cell_type": "markdown",
   "metadata": {},
   "source": [
    "# Data Analyizer"
   ]
  },
  {
   "cell_type": "code",
   "execution_count": 3,
   "metadata": {},
   "outputs": [
    {
     "name": "stdout",
     "output_type": "stream",
     "text": [
      "input numbers spaced by commas\n",
      "2.566,6,252,36,\n",
      "please enter a list seperated by commas\n",
      "current directory:  \n",
      "/home/arthurliu/vscode/csp/_notebooks\n"
     ]
    },
    {
     "data": {
      "text/plain": [
       "0"
      ]
     },
     "execution_count": 3,
     "metadata": {},
     "output_type": "execute_result"
    }
   ],
   "source": [
    "import statistics\n",
    "import os\n",
    "\n",
    "print(\"input numbers spaced by commas\")\n",
    "try:\n",
    "    values = input().split(\",\")\n",
    "    listsum = 0\n",
    "    for i in range(len(values)):\n",
    "        values[i] = float(values[i])\n",
    "\n",
    "    print(\"Mean: \" + str(statistics.mean(values)))\n",
    "    print(\"Median: \" + str(statistics.median(values)))\n",
    "    print(\"Mode: \" + str(statistics.mode(values)))\n",
    "    print(\"Range: \" + str(max(values) - min(values)))\n",
    "except ValueError:\n",
    "    print(\"please enter a list seperated by commas\")\n",
    "    pass\n",
    "\n",
    "print(\"current directory:\", end=\" \")\n",
    "os.system(\"pwd\")"
   ]
  },
  {
   "cell_type": "code",
   "execution_count": null,
   "metadata": {},
   "outputs": [],
   "source": []
  }
 ],
 "metadata": {
  "kernelspec": {
   "display_name": "Python 3 (ipykernel)",
   "language": "python",
   "name": "python3"
  },
  "language_info": {
   "codemirror_mode": {
    "name": "ipython",
    "version": 3
   },
   "file_extension": ".py",
   "mimetype": "text/x-python",
   "name": "python",
   "nbconvert_exporter": "python",
   "pygments_lexer": "ipython3",
   "version": "3.10.12"
  }
 },
 "nbformat": 4,
 "nbformat_minor": 2
}

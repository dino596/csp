{
 "cells": [
  {
   "cell_type": "markdown",
   "metadata": {},
   "source": [
    "---\n",
    "layout: post\n",
    "hide: True\n",
    "title: HTML\n",
    "type: ccc\n",
    "permalink: /basics/test/html\n",
    "---"
   ]
  },
  {
   "cell_type": "code",
   "execution_count": null,
   "metadata": {},
   "outputs": [],
   "source": [
    "%%html\n",
    "<div style=\"background-color: lightblue; padding: 10px;\">\n",
    "    <h1>Hello, Jupyter HTML Magic!</h1>\n",
    "    <p>This is an example of rendering HTML in a Jupyter notebook.</p>\n",
    "</div>"
   ]
  }
 ],
 "metadata": {
  "language_info": {
   "name": "python"
  },
  "orig_nbformat": 4
 },
 "nbformat": 4,
 "nbformat_minor": 2
}

{
 "cells": [
  {
   "cell_type": "markdown",
   "metadata": {},
   "source": [
    "---\n",
    "toc: true\n",
    "comments: true\n",
    "layout: post\n",
    "title: Student Lesson Python Libraries\n",
    "description: To teach the class how to use public Python libraries around the internet\n",
    "type: hacks\n",
    "courses: { csp: {week: 10} }\n",
    "---"
   ]
  },
  {
   "cell_type": "markdown",
   "metadata": {},
   "source": [
    "### What is a Library?\n",
    "Essentially a list of pre-written code that you can use to streamline and clean up your program.\n",
    "\n",
    "Libraries can help simplify complex programs\n",
    "\n",
    "APIS are specifications for how the procedures in a library behave, and how they can be used \n",
    "\n",
    "Documentations for an API/library is necessary in understanding the behaviors provided by the API/library and how to use them\n",
    "\n",
    "Libraries that we will go over: Requests, Pillow, Pandas, Numpy, Scikit-Learn, TensorFlow, matplotlib.\n"
   ]
  },
  {
   "cell_type": "markdown",
   "metadata": {},
   "source": [
    "### Required Installations\n",
    "Please run the following commands in your vscode terminal in order to continue the lesson\n",
    "- pip install numpy\n",
    "- pip install matplotlib\n",
    "- pip install scikit-learn\n",
    "- pip install pillow\n",
    "- pip install pandas\n",
    "- pip install tensorflow\n",
    "- pip install requests"
   ]
  },
  {
   "cell_type": "markdown",
   "metadata": {},
   "source": [
    "### Images using requests and pillow libraries\n",
    "'Requests' is focused on handling HTTP requests and web data while 'Pillow' is designed for data manipulation and analysis\n",
    "It's common to see them used together in data-related assignments where data is fetched by HTTP requests using Requests and then processed and analyzed with Pandas.\n",
    "\n",
    "Here's an example:"
   ]
  },
  {
   "cell_type": "code",
   "execution_count": null,
   "metadata": {},
   "outputs": [],
   "source": [
    "import requests\n",
    "from PIL import Image\n",
    "from io import BytesIO\n",
    "\n",
    "# Step 1: Download an image using Requests\n",
    "image_url = \"https://example.com/path/to/your/image.jpg\"  # Replace with the actual URL of the image you want to download\n",
    "response = requests.get(image_url)\n",
    "\n",
    "if response.status_code == 200:\n",
    "    # Step 2: Process the downloaded image using Pillow\n",
    "    image_data = BytesIO(response.content)  # Create an in-memory binary stream from the response content\n",
    "    img = Image.open(image_data)  # Open the image using Pillow\n",
    "\n",
    "    # Perform image processing tasks here, like resizing or applying filters\n",
    "    img = img.resize((x, y))  # Resize the image and replace x,y with desired amounts\n",
    "\n",
    "    # Step 3: Save the processed image using Pillow\n",
    "    img.save(\"processed_image.jpg\")  # Save the processed image to a file\n",
    "\n",
    "    print(\"Image downloaded, processed, and saved.\")\n",
    "else:\n",
    "    print(f\"Failed to download image. Status code: {response.status_code}\")\n"
   ]
  },
  {
   "cell_type": "markdown",
   "metadata": {},
   "source": [
    "In this code, we use the Requests library to download an image from a URL and then if the download is successful the HTTP status code 200 will pop up, and from there we create an in-memory binary stream (BytesIO) from the response content. We then use the Pillow library to open the image, make any necessary changes, and save the processed image to a file.\n",
    "\n",
    "Here's a step by step tutorial on how we wrote this code: \n",
    "1)We started by importing the necessary libraries, which were Requests, Pillow, and io.\n",
    "\n",
    "2)Download the Image\n",
    "\n",
    "3)Use the Requests library to send an HTTP GET request to the URL to download the image.\n",
    "Check the response status code to make sure the download goes through(status code 200).\n",
    "\n",
    "4)If the download is successful, create an in-memory binary stream (BytesIO) from the response content.\n",
    "Process the Image:\n",
    "\n",
    "5)Utilize the Pillow library to open the image from the binary stream.\n",
    "Change photo to desired preference(ie: size)\n",
    "Save the Processed Image:\n",
    "\n",
    "6)Save the processed image to a file using Pillow. Choose a filename and file format for the saved image.\n",
    "\n",
    "\n"
   ]
  },
  {
   "cell_type": "markdown",
   "metadata": {},
   "source": [
    "### Hack 1"
   ]
  },
  {
   "cell_type": "markdown",
   "metadata": {},
   "source": [
    "Write a Python code that accomplishes the following tasks:\n",
    "\n",
    "Downloads an image from a specified URL using the Requests library.\n",
    "Processes the downloaded image (like resizing) using the Pillow library.\n",
    "Save the processed image to a file.\n"
   ]
  },
  {
   "cell_type": "code",
   "execution_count": null,
   "metadata": {},
   "outputs": [],
   "source": [
    "#Code here\n",
    "import requests\n",
    "import PIL\n",
    "import io\n",
    "\n",
    "url = \"example.png\"\n",
    "response = requests.get(url)\n",
    "\n",
    "if response.status_code == 200:\n",
    "\n",
    "    image = PIL.Image.open(io.BytesIO(response.content)).rotate(180)\n",
    "    image.save(\"processed.png\")\n",
    "else:\n",
    "    print(\"error. status code:\", response.status_code)"
   ]
  },
  {
   "cell_type": "markdown",
   "metadata": {},
   "source": [
    "### Math Operations With Python Libraries\n",
    "Numpy(Numerical Python) is used for numerical and scientific computing. It provides tools for handling large sets of numbers, such as data tables and arrays. Numpy makes it easier and more efficient to do mathematical tasks. \n",
    "\n",
    "The Matplotlib library lets you create a visual representation of your data (graphs, charts, and etc.)"
   ]
  },
  {
   "cell_type": "markdown",
   "metadata": {},
   "source": [
    "### Example Sine Graph\n",
    "Uses numpy and matplotlib libaries"
   ]
  },
  {
   "cell_type": "code",
   "execution_count": 2,
   "metadata": {},
   "outputs": [
    {
     "data": {
      "image/png": "[encoded data removed]",
      "text/plain": [
       "<Figure size 432x288 with 1 Axes>"
      ]
     },
     "metadata": {
      "needs_background": "light"
     },
     "output_type": "display_data"
    }
   ],
   "source": [
    "import numpy as np\n",
    "import matplotlib.pyplot as plt\n",
    "\n",
    "# Generate sample data with NumPy\n",
    "x = np.linspace(0, 2 * np.pi, 100) \n",
    "# Create an array of values from 0 to 2*pi\n",
    "# 100 is included to have 100 points distributed between 0 and 2π to make graph smoother\n",
    "y = np.sin(x)\n",
    "# Compute the sine of each value\n",
    "\n",
    "# Create a simple line plot using Matplotlib\n",
    "plt.plot(x, y, label='Sine Function', color='blue', linestyle='-')  # Create the plot\n",
    "plt.title('Sine Function')  # Set the title\n",
    "plt.xlabel('x')  # Label for the x-axis\n",
    "plt.ylabel('sin(x)')  # Label for the y-axis\n",
    "plt.grid(True)  # Display a grid\n",
    "plt.legend()  # Show the legend\n",
    "plt.show()  # Display the plot\n"
   ]
  },
  {
   "cell_type": "markdown",
   "metadata": {},
   "source": [
    "### Hack 2\n",
    "Using the data from the numpy library, create a visual graph using different matplotlib functions."
   ]
  },
  {
   "cell_type": "code",
   "execution_count": 15,
   "metadata": {},
   "outputs": [
    {
     "data": {
      "image/png": "[encoded data removed]",
      "text/plain": [
       "<Figure size 432x288 with 1 Axes>"
      ]
     },
     "metadata": {
      "needs_background": "light"
     },
     "output_type": "display_data"
    }
   ],
   "source": [
    "import numpy as np\n",
    "import matplotlib.pyplot as plt\n",
    "\n",
    "# Generate data for two lines\n",
    "x = np.linspace(0, 10, 50)  # Create an array of values from 0 to 10\n",
    "y1 = 2 * x + 1  # Set of data poits\n",
    "\n",
    "# Create and display a plot using Matplotlib\n",
    "\n",
    "# your code here\n",
    "plt.plot(x, y1,color=\"red\")\n",
    "plt.title(\"y=2x+1\")\n",
    "plt.xlabel('x')\n",
    "plt.ylabel('y')\n",
    "plt.show()\n",
    "# i dont like how the grid looks so i didnt include it"
   ]
  },
  {
   "cell_type": "markdown",
   "metadata": {},
   "source": [
    "Tensor Flow is used in deep learning and neural networks, while scikit-learn is used for typical machine learning tasks. When used together, they can tackle machine learning projects. In the code below, Tensor Flow is used for model creation and training. Scikit-learn is used for data-processing and model evaluation."
   ]
  },
  {
   "cell_type": "markdown",
   "metadata": {},
   "source": [
    "## Pip install tensorflow scikit-learn"
   ]
  },
  {
   "cell_type": "code",
   "execution_count": 14,
   "metadata": {},
   "outputs": [
    {
     "name": "stderr",
     "output_type": "stream",
     "text": [
      "2023-10-26 10:17:06.000464: I tensorflow/core/util/port.cc:111] oneDNN custom operations are on. You may see slightly different numerical results due to floating-point round-off errors from different computation orders. To turn them off, set the environment variable `TF_ENABLE_ONEDNN_OPTS=0`.\n",
      "2023-10-26 10:17:06.019064: I tensorflow/tsl/cuda/cudart_stub.cc:28] Could not find cuda drivers on your machine, GPU will not be used.\n",
      "2023-10-26 10:17:06.225531: E tensorflow/compiler/xla/stream_executor/cuda/cuda_dnn.cc:9342] Unable to register cuDNN factory: Attempting to register factory for plugin cuDNN when one has already been registered\n",
      "2023-10-26 10:17:06.225635: E tensorflow/compiler/xla/stream_executor/cuda/cuda_fft.cc:609] Unable to register cuFFT factory: Attempting to register factory for plugin cuFFT when one has already been registered\n",
      "2023-10-26 10:17:06.225909: E tensorflow/compiler/xla/stream_executor/cuda/cuda_blas.cc:1518] Unable to register cuBLAS factory: Attempting to register factory for plugin cuBLAS when one has already been registered\n",
      "2023-10-26 10:17:06.375729: I tensorflow/tsl/cuda/cudart_stub.cc:28] Could not find cuda drivers on your machine, GPU will not be used.\n",
      "2023-10-26 10:17:06.378073: I tensorflow/core/platform/cpu_feature_guard.cc:182] This TensorFlow binary is optimized to use available CPU instructions in performance-critical operations.\n",
      "To enable the following instructions: AVX2 AVX512F AVX512_VNNI FMA, in other operations, rebuild TensorFlow with the appropriate compiler flags.\n",
      "2023-10-26 10:17:07.553077: W tensorflow/compiler/tf2tensorrt/utils/py_utils.cc:38] TF-TRT Warning: Could not find TensorRT\n",
      "/usr/lib/python3/dist-packages/scipy/__init__.py:146: UserWarning: A NumPy version >=1.17.3 and <1.25.0 is required for this version of SciPy (detected version 1.26.1\n",
      "  warnings.warn(f\"A NumPy version >={np_minversion} and <{np_maxversion}\"\n"
     ]
    },
    {
     "name": "stdout",
     "output_type": "stream",
     "text": [
      "Epoch 1/100\n",
      "3/3 - 0s - loss: 5.9047 - 425ms/epoch - 142ms/step\n",
      "Epoch 2/100\n",
      "3/3 - 0s - loss: 5.8866 - 13ms/epoch - 4ms/step\n",
      "Epoch 3/100\n",
      "3/3 - 0s - loss: 5.8673 - 18ms/epoch - 6ms/step\n",
      "Epoch 4/100\n",
      "3/3 - 0s - loss: 5.8465 - 20ms/epoch - 7ms/step\n",
      "Epoch 5/100\n",
      "3/3 - 0s - loss: 5.8272 - 20ms/epoch - 7ms/step\n",
      "Epoch 6/100\n",
      "3/3 - 0s - loss: 5.8072 - 26ms/epoch - 9ms/step\n",
      "Epoch 7/100\n",
      "3/3 - 0s - loss: 5.7877 - 25ms/epoch - 8ms/step\n",
      "Epoch 8/100\n",
      "3/3 - 0s - loss: 5.7680 - 21ms/epoch - 7ms/step\n",
      "Epoch 9/100\n",
      "3/3 - 0s - loss: 5.7485 - 20ms/epoch - 7ms/step\n",
      "Epoch 10/100\n",
      "3/3 - 0s - loss: 5.7294 - 13ms/epoch - 4ms/step\n",
      "Epoch 11/100\n",
      "3/3 - 0s - loss: 5.7091 - 21ms/epoch - 7ms/step\n",
      "Epoch 12/100\n",
      "3/3 - 0s - loss: 5.6897 - 20ms/epoch - 7ms/step\n",
      "Epoch 13/100\n",
      "3/3 - 0s - loss: 5.6705 - 24ms/epoch - 8ms/step\n",
      "Epoch 14/100\n",
      "3/3 - 0s - loss: 5.6518 - 20ms/epoch - 7ms/step\n",
      "Epoch 15/100\n",
      "3/3 - 0s - loss: 5.6311 - 20ms/epoch - 7ms/step\n",
      "Epoch 16/100\n",
      "3/3 - 0s - loss: 5.6127 - 20ms/epoch - 7ms/step\n",
      "Epoch 17/100\n",
      "3/3 - 0s - loss: 5.5932 - 21ms/epoch - 7ms/step\n",
      "Epoch 18/100\n",
      "3/3 - 0s - loss: 5.5733 - 22ms/epoch - 7ms/step\n",
      "Epoch 19/100\n",
      "3/3 - 0s - loss: 5.5552 - 19ms/epoch - 6ms/step\n",
      "Epoch 20/100\n",
      "3/3 - 0s - loss: 5.5345 - 20ms/epoch - 7ms/step\n",
      "Epoch 21/100\n",
      "3/3 - 0s - loss: 5.5171 - 21ms/epoch - 7ms/step\n",
      "Epoch 22/100\n",
      "3/3 - 0s - loss: 5.4965 - 17ms/epoch - 6ms/step\n",
      "Epoch 23/100\n",
      "3/3 - 0s - loss: 5.4795 - 22ms/epoch - 7ms/step\n",
      "Epoch 24/100\n",
      "3/3 - 0s - loss: 5.4595 - 19ms/epoch - 6ms/step\n",
      "Epoch 25/100\n",
      "3/3 - 0s - loss: 5.4411 - 17ms/epoch - 6ms/step\n",
      "Epoch 26/100\n",
      "3/3 - 0s - loss: 5.4227 - 13ms/epoch - 4ms/step\n",
      "Epoch 27/100\n",
      "3/3 - 0s - loss: 5.4023 - 17ms/epoch - 6ms/step\n",
      "Epoch 28/100\n",
      "3/3 - 0s - loss: 5.3844 - 15ms/epoch - 5ms/step\n",
      "Epoch 29/100\n",
      "3/3 - 0s - loss: 5.3661 - 22ms/epoch - 7ms/step\n",
      "Epoch 30/100\n",
      "3/3 - 0s - loss: 5.3476 - 11ms/epoch - 4ms/step\n",
      "Epoch 31/100\n",
      "3/3 - 0s - loss: 5.3285 - 18ms/epoch - 6ms/step\n",
      "Epoch 32/100\n",
      "3/3 - 0s - loss: 5.3100 - 18ms/epoch - 6ms/step\n",
      "Epoch 33/100\n",
      "3/3 - 0s - loss: 5.2915 - 16ms/epoch - 5ms/step\n",
      "Epoch 34/100\n",
      "3/3 - 0s - loss: 5.2716 - 15ms/epoch - 5ms/step\n",
      "Epoch 35/100\n",
      "3/3 - 0s - loss: 5.2539 - 16ms/epoch - 5ms/step\n",
      "Epoch 36/100\n",
      "3/3 - 0s - loss: 5.2369 - 14ms/epoch - 5ms/step\n",
      "Epoch 37/100\n",
      "3/3 - 0s - loss: 5.2164 - 18ms/epoch - 6ms/step\n",
      "Epoch 38/100\n",
      "3/3 - 0s - loss: 5.1995 - 16ms/epoch - 5ms/step\n",
      "Epoch 39/100\n",
      "3/3 - 0s - loss: 5.1811 - 13ms/epoch - 4ms/step\n",
      "Epoch 40/100\n",
      "3/3 - 0s - loss: 5.1634 - 19ms/epoch - 6ms/step\n",
      "Epoch 41/100\n",
      "3/3 - 0s - loss: 5.1462 - 19ms/epoch - 6ms/step\n",
      "Epoch 42/100\n",
      "3/3 - 0s - loss: 5.1272 - 18ms/epoch - 6ms/step\n",
      "Epoch 43/100\n",
      "3/3 - 0s - loss: 5.1099 - 18ms/epoch - 6ms/step\n",
      "Epoch 44/100\n",
      "3/3 - 0s - loss: 5.0905 - 17ms/epoch - 6ms/step\n",
      "Epoch 45/100\n",
      "3/3 - 0s - loss: 5.0737 - 15ms/epoch - 5ms/step\n",
      "Epoch 46/100\n",
      "3/3 - 0s - loss: 5.0556 - 15ms/epoch - 5ms/step\n",
      "Epoch 47/100\n",
      "3/3 - 0s - loss: 5.0374 - 12ms/epoch - 4ms/step\n",
      "Epoch 48/100\n",
      "3/3 - 0s - loss: 5.0186 - 13ms/epoch - 4ms/step\n",
      "Epoch 49/100\n",
      "3/3 - 0s - loss: 5.0013 - 16ms/epoch - 5ms/step\n",
      "Epoch 50/100\n",
      "3/3 - 0s - loss: 4.9823 - 17ms/epoch - 6ms/step\n",
      "Epoch 51/100\n",
      "3/3 - 0s - loss: 4.9647 - 13ms/epoch - 4ms/step\n",
      "Epoch 52/100\n",
      "3/3 - 0s - loss: 4.9469 - 14ms/epoch - 5ms/step\n",
      "Epoch 53/100\n",
      "3/3 - 0s - loss: 4.9283 - 14ms/epoch - 5ms/step\n",
      "Epoch 54/100\n",
      "3/3 - 0s - loss: 4.9106 - 15ms/epoch - 5ms/step\n",
      "Epoch 55/100\n",
      "3/3 - 0s - loss: 4.8934 - 17ms/epoch - 6ms/step\n",
      "Epoch 56/100\n",
      "3/3 - 0s - loss: 4.8761 - 19ms/epoch - 6ms/step\n",
      "Epoch 57/100\n",
      "3/3 - 0s - loss: 4.8584 - 15ms/epoch - 5ms/step\n",
      "Epoch 58/100\n",
      "3/3 - 0s - loss: 4.8402 - 14ms/epoch - 5ms/step\n",
      "Epoch 59/100\n",
      "3/3 - 0s - loss: 4.8233 - 15ms/epoch - 5ms/step\n",
      "Epoch 60/100\n",
      "3/3 - 0s - loss: 4.8058 - 15ms/epoch - 5ms/step\n",
      "Epoch 61/100\n",
      "3/3 - 0s - loss: 4.7891 - 14ms/epoch - 5ms/step\n",
      "Epoch 62/100\n",
      "3/3 - 0s - loss: 4.7719 - 14ms/epoch - 5ms/step\n",
      "Epoch 63/100\n",
      "3/3 - 0s - loss: 4.7546 - 15ms/epoch - 5ms/step\n",
      "Epoch 64/100\n",
      "3/3 - 0s - loss: 4.7377 - 14ms/epoch - 5ms/step\n",
      "Epoch 65/100\n",
      "3/3 - 0s - loss: 4.7197 - 14ms/epoch - 5ms/step\n",
      "Epoch 66/100\n",
      "3/3 - 0s - loss: 4.7042 - 14ms/epoch - 5ms/step\n",
      "Epoch 67/100\n",
      "3/3 - 0s - loss: 4.6870 - 16ms/epoch - 5ms/step\n",
      "Epoch 68/100\n",
      "3/3 - 0s - loss: 4.6697 - 15ms/epoch - 5ms/step\n",
      "Epoch 69/100\n",
      "3/3 - 0s - loss: 4.6540 - 14ms/epoch - 5ms/step\n",
      "Epoch 70/100\n",
      "3/3 - 0s - loss: 4.6362 - 17ms/epoch - 6ms/step\n",
      "Epoch 71/100\n",
      "3/3 - 0s - loss: 4.6204 - 14ms/epoch - 5ms/step\n",
      "Epoch 72/100\n",
      "3/3 - 0s - loss: 4.6031 - 14ms/epoch - 5ms/step\n",
      "Epoch 73/100\n",
      "3/3 - 0s - loss: 4.5865 - 15ms/epoch - 5ms/step\n",
      "Epoch 74/100\n",
      "3/3 - 0s - loss: 4.5702 - 15ms/epoch - 5ms/step\n",
      "Epoch 75/100\n",
      "3/3 - 0s - loss: 4.5523 - 18ms/epoch - 6ms/step\n",
      "Epoch 76/100\n",
      "3/3 - 0s - loss: 4.5365 - 16ms/epoch - 5ms/step\n",
      "Epoch 77/100\n",
      "3/3 - 0s - loss: 4.5197 - 15ms/epoch - 5ms/step\n",
      "Epoch 78/100\n",
      "3/3 - 0s - loss: 4.5024 - 15ms/epoch - 5ms/step\n",
      "Epoch 79/100\n",
      "3/3 - 0s - loss: 4.4861 - 14ms/epoch - 5ms/step\n",
      "Epoch 80/100\n",
      "3/3 - 0s - loss: 4.4700 - 20ms/epoch - 7ms/step\n",
      "Epoch 81/100\n",
      "3/3 - 0s - loss: 4.4541 - 18ms/epoch - 6ms/step\n",
      "Epoch 82/100\n",
      "3/3 - 0s - loss: 4.4376 - 13ms/epoch - 4ms/step\n",
      "Epoch 83/100\n",
      "3/3 - 0s - loss: 4.4206 - 13ms/epoch - 4ms/step\n",
      "Epoch 84/100\n",
      "3/3 - 0s - loss: 4.4064 - 14ms/epoch - 5ms/step\n",
      "Epoch 85/100\n",
      "3/3 - 0s - loss: 4.3889 - 16ms/epoch - 5ms/step\n",
      "Epoch 86/100\n",
      "3/3 - 0s - loss: 4.3739 - 15ms/epoch - 5ms/step\n",
      "Epoch 87/100\n",
      "3/3 - 0s - loss: 4.3576 - 15ms/epoch - 5ms/step\n",
      "Epoch 88/100\n",
      "3/3 - 0s - loss: 4.3421 - 15ms/epoch - 5ms/step\n",
      "Epoch 89/100\n",
      "3/3 - 0s - loss: 4.3246 - 15ms/epoch - 5ms/step\n",
      "Epoch 90/100\n",
      "3/3 - 0s - loss: 4.3108 - 13ms/epoch - 4ms/step\n",
      "Epoch 91/100\n",
      "3/3 - 0s - loss: 4.2943 - 13ms/epoch - 4ms/step\n",
      "Epoch 92/100\n",
      "3/3 - 0s - loss: 4.2776 - 15ms/epoch - 5ms/step\n",
      "Epoch 93/100\n",
      "3/3 - 0s - loss: 4.2627 - 14ms/epoch - 5ms/step\n",
      "Epoch 94/100\n",
      "3/3 - 0s - loss: 4.2461 - 13ms/epoch - 4ms/step\n",
      "Epoch 95/100\n",
      "3/3 - 0s - loss: 4.2309 - 13ms/epoch - 4ms/step\n",
      "Epoch 96/100\n",
      "3/3 - 0s - loss: 4.2149 - 14ms/epoch - 5ms/step\n",
      "Epoch 97/100\n",
      "3/3 - 0s - loss: 4.1994 - 13ms/epoch - 4ms/step\n",
      "Epoch 98/100\n",
      "3/3 - 0s - loss: 4.1840 - 11ms/epoch - 4ms/step\n",
      "Epoch 99/100\n",
      "3/3 - 0s - loss: 4.1682 - 12ms/epoch - 4ms/step\n",
      "Epoch 100/100\n",
      "3/3 - 0s - loss: 4.1539 - 13ms/epoch - 4ms/step\n",
      "1/1 [==============================] - 0s 69ms/step\n",
      "Mean Squared Error: 4.5851\n"
     ]
    }
   ],
   "source": [
    "import numpy as np\n",
    "import tensorflow as tf\n",
    "from sklearn.model_selection import train_test_split\n",
    "from sklearn.metrics import mean_squared_error\n",
    "from sklearn.preprocessing import StandardScaler\n",
    "from tensorflow import keras\n",
    "from tensorflow.keras import layers\n",
    "# Generate synthetic data\n",
    "np.random.seed(0)\n",
    "X = np.random.rand(100, 1)  # Feature\n",
    "y = 2 * X + 1 + 0.1 * np.random.randn(100, 1)  # Target variable with noise\n",
    "# Split the data into training and testing sets\n",
    "X_train, X_test, y_train, y_test = train_test_split(X, y, test_size=0.2, random_state=42)\n",
    "# Standardize the features\n",
    "scaler = StandardScaler()\n",
    "X_train = scaler.fit_transform(X_train)\n",
    "X_test = scaler.transform(X_test)\n",
    "# Create a simple linear regression model using TensorFlow and Keras\n",
    "model = keras.Sequential([\n",
    "    layers.Input(shape=(1,)),\n",
    "    layers.Dense(1)\n",
    "])\n",
    "# Compile the model\n",
    "model.compile(optimizer='adam', loss='mean_squared_error')\n",
    "# Train the model\n",
    "model.fit(X_train, y_train, epochs=100, batch_size=32, verbose=2)\n",
    "# Make predictions on the test set\n",
    "y_pred = model.predict(X_test)\n",
    "# Calculate the Mean Squared Error on the test set\n",
    "mse = mean_squared_error(y_test, y_pred)\n",
    "print(f\"Mean Squared Error: {mse:.4f}\")"
   ]
  },
  {
   "cell_type": "markdown",
   "metadata": {},
   "source": [
    "A decrease in loss and time metrics (ms/epoch and ms/step) shows the efficiency increases as the training epochs increases"
   ]
  },
  {
   "cell_type": "markdown",
   "metadata": {},
   "source": [
    "## Hack\n",
    "fill in the missing code to match the custom data set"
   ]
  },
  {
   "cell_type": "code",
   "execution_count": 16,
   "metadata": {},
   "outputs": [
    {
     "name": "stdout",
     "output_type": "stream",
     "text": [
      "Epoch 1/100\n"
     ]
    },
    {
     "ename": "ValueError",
     "evalue": "in user code:\n\n    File \"/home/arthurliu/.local/lib/python3.10/site-packages/keras/src/engine/training.py\", line 1377, in train_function  *\n        return step_function(self, iterator)\n    File \"/home/arthurliu/.local/lib/python3.10/site-packages/keras/src/engine/training.py\", line 1360, in step_function  **\n        outputs = model.distribute_strategy.run(run_step, args=(data,))\n    File \"/home/arthurliu/.local/lib/python3.10/site-packages/keras/src/engine/training.py\", line 1349, in run_step  **\n        outputs = model.train_step(data)\n    File \"/home/arthurliu/.local/lib/python3.10/site-packages/keras/src/engine/training.py\", line 1126, in train_step\n        y_pred = self(x, training=True)\n    File \"/home/arthurliu/.local/lib/python3.10/site-packages/keras/src/utils/traceback_utils.py\", line 70, in error_handler\n        raise e.with_traceback(filtered_tb) from None\n    File \"/home/arthurliu/.local/lib/python3.10/site-packages/keras/src/engine/input_spec.py\", line 280, in assert_input_compatibility\n        raise ValueError(\n\n    ValueError: Exception encountered when calling layer 'sequential_1' (type Sequential).\n    \n    Input 0 of layer \"dense_1\" is incompatible with the layer: expected axis -1 of input shape to have value 1, but received input with shape (None, 2)\n    \n    Call arguments received by layer 'sequential_1' (type Sequential):\n      • inputs=tf.Tensor(shape=(None, 2), dtype=float32)\n      • training=True\n      • mask=None\n",
     "output_type": "error",
     "traceback": [
      "\u001b[0;31m---------------------------------------------------------------------------\u001b[0m",
      "\u001b[0;31mValueError\u001b[0m                                Traceback (most recent call last)",
      "\u001b[0;32m/tmp/ipykernel_972/3309451179.py\u001b[0m in \u001b[0;36m<module>\u001b[0;34m\u001b[0m\n\u001b[1;32m     33\u001b[0m   \u001b[0;31m# Using MSE as the loss function\u001b[0m\u001b[0;34m\u001b[0m\u001b[0;34m\u001b[0m\u001b[0m\n\u001b[1;32m     34\u001b[0m \u001b[0;31m# Train the model\u001b[0m\u001b[0;34m\u001b[0m\u001b[0;34m\u001b[0m\u001b[0m\n\u001b[0;32m---> 35\u001b[0;31m \u001b[0mmodel\u001b[0m\u001b[0;34m.\u001b[0m\u001b[0mfit\u001b[0m\u001b[0;34m(\u001b[0m\u001b[0mX_train\u001b[0m\u001b[0;34m,\u001b[0m \u001b[0my_train\u001b[0m\u001b[0;34m,\u001b[0m \u001b[0mepochs\u001b[0m\u001b[0;34m=\u001b[0m\u001b[0;36m100\u001b[0m\u001b[0;34m,\u001b[0m \u001b[0mbatch_size\u001b[0m\u001b[0;34m=\u001b[0m\u001b[0;36m32\u001b[0m\u001b[0;34m,\u001b[0m \u001b[0mverbose\u001b[0m\u001b[0;34m=\u001b[0m\u001b[0;36m2\u001b[0m\u001b[0;34m)\u001b[0m\u001b[0;34m\u001b[0m\u001b[0;34m\u001b[0m\u001b[0m\n\u001b[0m\u001b[1;32m     36\u001b[0m \u001b[0;31m# Make predictions on the test set\u001b[0m\u001b[0;34m\u001b[0m\u001b[0;34m\u001b[0m\u001b[0m\n\u001b[1;32m     37\u001b[0m \u001b[0my_pred\u001b[0m \u001b[0;34m=\u001b[0m \u001b[0mmodel\u001b[0m\u001b[0;34m.\u001b[0m\u001b[0mpredict\u001b[0m\u001b[0;34m(\u001b[0m\u001b[0mX_test\u001b[0m\u001b[0;34m)\u001b[0m\u001b[0;34m\u001b[0m\u001b[0;34m\u001b[0m\u001b[0m\n",
      "\u001b[0;32m~/.local/lib/python3.10/site-packages/keras/src/utils/traceback_utils.py\u001b[0m in \u001b[0;36merror_handler\u001b[0;34m(*args, **kwargs)\u001b[0m\n\u001b[1;32m     68\u001b[0m             \u001b[0;31m# To get the full stack trace, call:\u001b[0m\u001b[0;34m\u001b[0m\u001b[0;34m\u001b[0m\u001b[0m\n\u001b[1;32m     69\u001b[0m             \u001b[0;31m# `tf.debugging.disable_traceback_filtering()`\u001b[0m\u001b[0;34m\u001b[0m\u001b[0;34m\u001b[0m\u001b[0m\n\u001b[0;32m---> 70\u001b[0;31m             \u001b[0;32mraise\u001b[0m \u001b[0me\u001b[0m\u001b[0;34m.\u001b[0m\u001b[0mwith_traceback\u001b[0m\u001b[0;34m(\u001b[0m\u001b[0mfiltered_tb\u001b[0m\u001b[0;34m)\u001b[0m \u001b[0;32mfrom\u001b[0m \u001b[0;32mNone\u001b[0m\u001b[0;34m\u001b[0m\u001b[0;34m\u001b[0m\u001b[0m\n\u001b[0m\u001b[1;32m     71\u001b[0m         \u001b[0;32mfinally\u001b[0m\u001b[0;34m:\u001b[0m\u001b[0;34m\u001b[0m\u001b[0;34m\u001b[0m\u001b[0m\n\u001b[1;32m     72\u001b[0m             \u001b[0;32mdel\u001b[0m \u001b[0mfiltered_tb\u001b[0m\u001b[0;34m\u001b[0m\u001b[0;34m\u001b[0m\u001b[0m\n",
      "\u001b[0;32m~/.local/lib/python3.10/site-packages/keras/src/engine/training.py\u001b[0m in \u001b[0;36mtf__train_function\u001b[0;34m(iterator)\u001b[0m\n\u001b[1;32m     13\u001b[0m                 \u001b[0;32mtry\u001b[0m\u001b[0;34m:\u001b[0m\u001b[0;34m\u001b[0m\u001b[0;34m\u001b[0m\u001b[0m\n\u001b[1;32m     14\u001b[0m                     \u001b[0mdo_return\u001b[0m \u001b[0;34m=\u001b[0m \u001b[0;32mTrue\u001b[0m\u001b[0;34m\u001b[0m\u001b[0;34m\u001b[0m\u001b[0m\n\u001b[0;32m---> 15\u001b[0;31m                     \u001b[0mretval_\u001b[0m \u001b[0;34m=\u001b[0m \u001b[0mag__\u001b[0m\u001b[0;34m.\u001b[0m\u001b[0mconverted_call\u001b[0m\u001b[0;34m(\u001b[0m\u001b[0mag__\u001b[0m\u001b[0;34m.\u001b[0m\u001b[0mld\u001b[0m\u001b[0;34m(\u001b[0m\u001b[0mstep_function\u001b[0m\u001b[0;34m)\u001b[0m\u001b[0;34m,\u001b[0m \u001b[0;34m(\u001b[0m\u001b[0mag__\u001b[0m\u001b[0;34m.\u001b[0m\u001b[0mld\u001b[0m\u001b[0;34m(\u001b[0m\u001b[0mself\u001b[0m\u001b[0;34m)\u001b[0m\u001b[0;34m,\u001b[0m \u001b[0mag__\u001b[0m\u001b[0;34m.\u001b[0m\u001b[0mld\u001b[0m\u001b[0;34m(\u001b[0m\u001b[0miterator\u001b[0m\u001b[0;34m)\u001b[0m\u001b[0;34m)\u001b[0m\u001b[0;34m,\u001b[0m \u001b[0;32mNone\u001b[0m\u001b[0;34m,\u001b[0m \u001b[0mfscope\u001b[0m\u001b[0;34m)\u001b[0m\u001b[0;34m\u001b[0m\u001b[0;34m\u001b[0m\u001b[0m\n\u001b[0m\u001b[1;32m     16\u001b[0m                 \u001b[0;32mexcept\u001b[0m\u001b[0;34m:\u001b[0m\u001b[0;34m\u001b[0m\u001b[0;34m\u001b[0m\u001b[0m\n\u001b[1;32m     17\u001b[0m                     \u001b[0mdo_return\u001b[0m \u001b[0;34m=\u001b[0m \u001b[0;32mFalse\u001b[0m\u001b[0;34m\u001b[0m\u001b[0;34m\u001b[0m\u001b[0m\n",
      "\u001b[0;31mValueError\u001b[0m: in user code:\n\n    File \"/home/arthurliu/.local/lib/python3.10/site-packages/keras/src/engine/training.py\", line 1377, in train_function  *\n        return step_function(self, iterator)\n    File \"/home/arthurliu/.local/lib/python3.10/site-packages/keras/src/engine/training.py\", line 1360, in step_function  **\n        outputs = model.distribute_strategy.run(run_step, args=(data,))\n    File \"/home/arthurliu/.local/lib/python3.10/site-packages/keras/src/engine/training.py\", line 1349, in run_step  **\n        outputs = model.train_step(data)\n    File \"/home/arthurliu/.local/lib/python3.10/site-packages/keras/src/engine/training.py\", line 1126, in train_step\n        y_pred = self(x, training=True)\n    File \"/home/arthurliu/.local/lib/python3.10/site-packages/keras/src/utils/traceback_utils.py\", line 70, in error_handler\n        raise e.with_traceback(filtered_tb) from None\n    File \"/home/arthurliu/.local/lib/python3.10/site-packages/keras/src/engine/input_spec.py\", line 280, in assert_input_compatibility\n        raise ValueError(\n\n    ValueError: Exception encountered when calling layer 'sequential_1' (type Sequential).\n    \n    Input 0 of layer \"dense_1\" is incompatible with the layer: expected axis -1 of input shape to have value 1, but received input with shape (None, 2)\n    \n    Call arguments received by layer 'sequential_1' (type Sequential):\n      • inputs=tf.Tensor(shape=(None, 2), dtype=float32)\n      • training=True\n      • mask=None\n"
     ]
    }
   ],
   "source": [
    "import numpy as np\n",
    "import tensorflow as tf\n",
    "from sklearn.model_selection import train_test_split\n",
    "from sklearn.metrics import mean_squared_error\n",
    "from sklearn.preprocessing import StandardScaler\n",
    "from tensorflow import keras\n",
    "from tensorflow.keras import layers\n",
    "# Generate a custom dataset (replace this with your data loading code)\n",
    "# Synthetic data: House prices based on number of bedrooms and square footage\n",
    "np.random.seed(0)\n",
    "num_samples = 100\n",
    "bedrooms = np.random.randint(1, 5, num_samples)\n",
    "square_footage = np.random.randint(1000, 2500, num_samples)\n",
    "house_prices = 100000 + 50000 * bedrooms + 100 * square_footage + 10000 * np.random.randn(num_samples)\n",
    "# Combine features (bedrooms and square footage) into one array\n",
    "X = np.column_stack((bedrooms, square_footage))\n",
    "y = house_prices.reshape(-1, 1)\n",
    "# Split the data into training and testing sets\n",
    "X_train, X_test, y_train, y_test = train_test_split(X, y, test_size=0.2, random_state=42)\n",
    "# Standardize the features\n",
    "scaler = StandardScaler()\n",
    "X_train = scaler.fit_transform(X_train)\n",
    "X_test = scaler.transform(X_test)\n",
    "# Create a regression model using TensorFlow and Keras\n",
    "model = keras.Sequential([\n",
    "    layers.Input(shape=(1,)),\n",
    "    layers.Dense(1)\n",
    "])\n",
    "    # Input shape adjusted to the number of features\n",
    "     # Output layer for regression\n",
    "model.compile(optimizer='adam', loss='mean_squared_error')\n",
    "# Compile the model for regression\n",
    "  # Using MSE as the loss function\n",
    "# Train the model\n",
    "model.fit(X_train, y_train, epochs=100, batch_size=32, verbose=2)\n",
    "# Make predictions on the test set\n",
    "y_pred = model.predict(X_test)\n",
    "# Calculate the Mean Squared Error on the test set\n",
    "mse = mean_squared_error(y_test, y_pred)\n",
    "print(f\"Mean Squared Error: {mse:.4f}\")"
   ]
  },
  {
   "cell_type": "markdown",
   "metadata": {},
   "source": [
    "## HOMEWORK 1\n",
    "\n",
    "Create a GPA calculator using Pandas and Matplot libraries and make:\n",
    "1) A dataframe\n",
    "2) A specified dictionary\n",
    "3) and a print function that outputs the final GPA\n",
    "\n",
    "Extra points can be earned with creativity."
   ]
  },
  {
   "cell_type": "code",
   "execution_count": 49,
   "metadata": {},
   "outputs": [
    {
     "name": "stdout",
     "output_type": "stream",
     "text": [
      "   index  Period                           Class       GPA\n",
      "0      0       1                  AP Calculus BC  2.163336\n",
      "1      1       2                    AP Chemistry  1.400521\n",
      "2      2       3             AP English Language  2.072997\n",
      "3      3       4  AP Computer Science Principles  2.342615\n",
      "4      4       5        AP United States History  4.566902\n",
      "class:gpas {'AP Calculus BC': 2.163335887680061, 'AP Chemistry': 1.400521343997689, 'AP English Language': 2.0729970105612496, 'AP Computer Science Principles': 2.342615075653682, 'AP United States History': 4.566901515660927}\n",
      "average gpa: 2.509274166710722\n"
     ]
    }
   ],
   "source": [
    "# your code here\n",
    "import pandas as pd\n",
    "import random\n",
    "\n",
    "df = pd.DataFrame({\n",
    "    \"Period\": [i+1 for i in range(5)],\n",
    "    \"Class\": pd.Categorical([\"AP Calculus BC\", \"AP Chemistry\", \"AP English Language\", \"AP Computer Science Principles\", \"AP United States History\"]),\n",
    "    \"GPA\": [(random.random() * 4)+1 for i in range(5)]\n",
    "}).reset_index()\n",
    "\n",
    "class_gpas = {}\n",
    "gpa = 0\n",
    "\n",
    "for i, r in df.iterrows():\n",
    "    class_gpas[r[\"Class\"]] = r[\"GPA\"]\n",
    "\n",
    "for k in class_gpas:\n",
    "    gpa += class_gpas[k]\n",
    "\n",
    "gpa /= len(class_gpas)\n",
    "\n",
    "print(df)\n",
    "print(\"class:gpas\", class_gpas)\n",
    "print(\"average gpa:\", gpa)"
   ]
  },
  {
   "cell_type": "markdown",
   "metadata": {},
   "source": [
    "## HOMEWORK 2\n",
    "\n",
    "Import and use the \"random\" library to generate 50 different points from the range 0-100, then display the randomized data using a scatter plot.\n",
    "\n",
    "Extra points can be earned with creativity."
   ]
  },
  {
   "cell_type": "code",
   "execution_count": 56,
   "metadata": {},
   "outputs": [
    {
     "data": {
      "image/png": "[encoded data removed]",
      "text/plain": [
       "<Figure size 432x288 with 1 Axes>"
      ]
     },
     "metadata": {
      "needs_background": "light"
     },
     "output_type": "display_data"
    }
   ],
   "source": [
    "# your code here\n",
    "import random\n",
    "import matplotlib as mpl\n",
    "import matplotlib.pyplot as plt\n",
    "import numpy as np\n",
    "\n",
    "x = list(random.random()*100 for i in range(50))\n",
    "y = list(random.random()*100 for i in range(50))\n",
    "\n",
    "colors = list((random.random(), random.random(), random.random()) for i in range(50))\n",
    "sizes = list(random.random()*100 for i in range(50))\n",
    "\n",
    "plt.scatter(x,y, c=colors, s=sizes)\n",
    "plt.xlabel(\"X Axis\")\n",
    "plt.ylabel(\"Y Axis\")\n",
    "plt.title(\"Random Scatter Plot with Random Colors and Sizes\")\n",
    "plt.grid(True)\n",
    "plt.show()"
   ]
  },
  {
   "cell_type": "code",
   "execution_count": null,
   "metadata": {},
   "outputs": [],
   "source": []
  }
 ],
 "metadata": {
  "kernelspec": {
   "display_name": "Python 3 (ipykernel)",
   "language": "python",
   "name": "python3"
  },
  "language_info": {
   "codemirror_mode": {
    "name": "ipython",
    "version": 3
   },
   "file_extension": ".py",
   "mimetype": "text/x-python",
   "name": "python",
   "nbconvert_exporter": "python",
   "pygments_lexer": "ipython3",
   "version": "3.10.12"
  }
 },
 "nbformat": 4,
 "nbformat_minor": 4
}

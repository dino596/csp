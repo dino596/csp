{
 "cells": [
  {
   "cell_type": "markdown",
   "metadata": {},
   "source": [
    "---\n",
    "layout: post\n",
    "hide: True\n",
    "title: Programming Basics Test\n",
    "type: ccc\n",
    "comments: true\n",
    "permalink: /basics/test\n",
    "---"
   ]
  },
  {
   "cell_type": "code",
   "execution_count": 21,
   "metadata": {},
   "outputs": [
    {
     "data": {
      "text/html": [
       "<div>\n",
       "    <h1>Important Repositories</h1>\n",
       "    <p>These are repositories that I commonly use</p>\n",
       "    <button style=\"color:white;border-radius:20px;background-color:gray;border:2px solid black\">Click to Switch the Links</button>\n",
       "</div>\n",
       "<div>\n",
       "    <a href=\"https://nighthawkcoders.github.io/teacher/\">Nighthawk Teacher Repository</a><br />\n",
       "    <a href=\"https://dino596.github.io/csp/\">Individual Student Repository</a>\n",
       "    <p>Closing Text</p>\n",
       "</div>\n"
      ],
      "text/plain": [
       "<IPython.core.display.HTML object>"
      ]
     },
     "metadata": {},
     "output_type": "display_data"
    }
   ],
   "source": [
    "%%html\n",
    "<div>\n",
    "    <h1>Important Repositories</h1>\n",
    "    <p>These are repositories that I commonly use</p>\n",
    "    <button style=\"color:white;border-radius:20px;background-color:gray;border:2px solid black\">Click to Switch the Links</button>\n",
    "</div>\n",
    "<div>\n",
    "    <a href=\"https://nighthawkcoders.github.io/teacher/\">Nighthawk Teacher Repository</a><br />\n",
    "    <a href=\"https://dino596.github.io/csp/\">Individual Student Repository</a>\n",
    "    <p>Bottom Text</p>\n",
    "</div>"
   ]
  },
  {
   "cell_type": "code",
   "execution_count": 36,
   "metadata": {},
   "outputs": [
    {
     "data": {
      "application/javascript": [
       "\n",
       "var obj = {\n",
       "    name: \"Arthur Liu\",\n",
       "    age: 16,\n",
       "    height: 62.99,\n",
       "    classes: [\n",
       "                \"Ethnic Literature I\",\n",
       "                \"AP United States History\",\n",
       "                \"AP Computer Science Principles\",\n",
       "                \"AP Chemistry\"\n",
       "             ],\n",
       "    groupMembers: [\n",
       "                    \"Jason\",\n",
       "                    \"Isabelle\",\n",
       "                    \"Matthew\",\n",
       "                    \"Rayane\"\n",
       "                  ],\n",
       "    sport: \"Tennis\",\n",
       "    instrument: \"Piano\"\n",
       "}\n",
       "\n",
       "console.log(obj)\n",
       "\n",
       "obj.classes.push(\"AP Calculus BC\")\n",
       "\n",
       "console.log(obj)\n",
       "console.log(obj.classes)\n",
       "\n",
       "console.log(obj.name.indexOf(\" \"))\n",
       "console.log(obj.name.substring(0,obj.name.indexOf(\" \")))\n",
       "\n",
       "var nameLen = obj.name.substring(0,obj.name.indexOf(\" \")).length\n",
       "\n",
       "for (var i = 0; i < obj.groupMembers.length; i++) {\n",
       "    nameLen += obj.groupMembers[i].length\n",
       "}\n",
       "console.log(nameLen / (obj.groupMembers.length + 1))\n",
       "\n",
       "console.log(typeof obj.name)\n",
       "console.log(typeof obj.height)\n",
       "console.log(typeof obj.groupMembers)\n"
      ],
      "text/plain": [
       "<IPython.core.display.Javascript object>"
      ]
     },
     "metadata": {},
     "output_type": "display_data"
    }
   ],
   "source": [
    "%%js\n",
    "\n",
    "var obj = {\n",
    "    name: \"Arthur Liu\",\n",
    "    age: 16,\n",
    "    height: 62.99,\n",
    "    classes: [\n",
    "                \"Ethnic Literature I\",\n",
    "                \"AP United States History\",\n",
    "                \"AP Computer Science Principles\",\n",
    "                \"AP Chemistry\"\n",
    "             ],\n",
    "    groupMembers: [\n",
    "                    \"Jason\",\n",
    "                    \"Isabelle\",\n",
    "                    \"Matthew\",\n",
    "                    \"Rayane\"\n",
    "                  ],\n",
    "    sport: \"Tennis\",\n",
    "    instrument: \"Piano\"\n",
    "}\n",
    "\n",
    "console.log(obj)\n",
    "\n",
    "obj.classes.push(\"AP Calculus BC\")\n",
    "\n",
    "console.log(obj)\n",
    "console.log(obj.classes)\n",
    "\n",
    "console.log(obj.name.indexOf(\" \"))\n",
    "console.log(obj.name.substring(0,obj.name.indexOf(\" \")))\n",
    "\n",
    "var nameLen = obj.name.substring(0,obj.name.indexOf(\" \")).length\n",
    "\n",
    "for (let i = 0; i < obj.groupMembers.length; i++) {\n",
    "    nameLen += obj.groupMembers[i].length\n",
    "}\n",
    "console.log(nameLen / (obj.groupMembers.length + 1))\n",
    "\n",
    "console.log(typeof obj.name)\n",
    "console.log(typeof obj.height)\n",
    "console.log(typeof obj.groupMembers)"
   ]
  },
  {
   "cell_type": "code",
   "execution_count": 79,
   "metadata": {},
   "outputs": [
    {
     "data": {
      "text/html": [
       "\n",
       "<div style=\"background-color:lightgray;font-family:'lucida handwriting',cursive\">\n",
       "    <h1 style=\"color:indigo\">Important Repositories</h1>\n",
       "    <p id=\"pID\" style=\"color:midnightblue\">These are repositories that I commonly use</p>\n",
       "    <button onClick=\"switchLinks()\" onmousedown=\"this.style.backgroundColor='lawngreen'\" onmouseup=\"this.style.backgroundColor='lightcoral'\" style=\"color:white;border-radius:20px;background-color:lightcoral;border:2px solid black\" id=\"buttonID\">Click to Switch the Links</button>\n",
       "</div>\n",
       "<div id=\"links\" style=\"background-color:honeydew;font-family:'brush script',cursive\">\n",
       "    <a id=\"public\" href=\"https://nighthawkcoders.github.io/teacher/\">Nighthawk Teacher Repository<br /></a>\n",
       "    <a id=\"personal\" href=\"https://dino596.github.io/csp/\">Individual Student Repository<br /></a>\n",
       "</div>\n",
       "\n",
       "<script>\n",
       "\n",
       "var first = \"public\"\n",
       "function switchLinks() {\n",
       "    var pID = document.getElementById(\"pID\")\n",
       "    pID.innerHTML = \"Switched!\"\n",
       "    var links = document.getElementById(\"links\")\n",
       "    var public = document.getElementById(\"public\")\n",
       "    var personal = document.getElementById(\"personal\")\n",
       "\n",
       "    if (first == \"public\") {\n",
       "        links.insertBefore(personal,public)\n",
       "        first = \"personal\"\n",
       "    } else {\n",
       "        links.insertBefore(public,personal)\n",
       "        first = \"public\"\n",
       "    }\n",
       "}\n",
       "</script>\n"
      ],
      "text/plain": [
       "<IPython.core.display.HTML object>"
      ]
     },
     "metadata": {},
     "output_type": "display_data"
    }
   ],
   "source": [
    "%%html\n",
    "\n",
    "<div style=\"background-color:lightgray;font-family:'lucida handwriting',cursive\">\n",
    "    <h1 style=\"color:indigo\">Important Repositories</h1>\n",
    "    <p id=\"pID\" style=\"color:midnightblue\">These are repositories that I commonly use</p>\n",
    "    <button onClick=\"switchLinks()\" onmousedown=\"this.style.backgroundColor='lawngreen'\" onmouseup=\"this.style.backgroundColor='lightcoral'\"; style=\"color:white;border-radius:20px;background-color:lightcoral;border:2px solid black\" id=\"buttonID\">Click to Switch the Links</button>\n",
    "</div>\n",
    "<div id=\"links\" style=\"background-color:honeydew;font-family:'brush script',cursive\">\n",
    "    <a id=\"public\" href=\"https://nighthawkcoders.github.io/teacher/\">Nighthawk Teacher Repository<br /></a>\n",
    "    <a id=\"personal\" href=\"https://dino596.github.io/csp/\">Individual Student Repository<br /></a>\n",
    "</div>\n",
    "\n",
    "<script>\n",
    "\n",
    "var first = \"public\"\n",
    "function switchLinks() {\n",
    "    var pID = document.getElementById(\"pID\")\n",
    "    pID.innerHTML = \"Switched!\"\n",
    "    var links = document.getElementById(\"links\")\n",
    "    var public = document.getElementById(\"public\")\n",
    "    var personal = document.getElementById(\"personal\")\n",
    "\n",
    "    if (first == \"public\") {\n",
    "        links.insertBefore(personal,public)\n",
    "        first = \"personal\"\n",
    "    } else {\n",
    "        links.insertBefore(public,personal)\n",
    "        first = \"public\"\n",
    "    }\n",
    "}\n",
    "</script>"
   ]
  },
  {
   "cell_type": "code",
   "execution_count": 78,
   "metadata": {},
   "outputs": [
    {
     "data": {
      "text/html": [
       "\n",
       "<script>\n",
       "var a = 3\n",
       "var b = 2\n",
       "if (a > b) {\n",
       "    console.log(\"A is greater than B\")\n",
       "} else if (a < b) {\n",
       "    console.log(\"B is greater than A\")\n",
       "} else if (a == b) {\n",
       "    console.log(\"A is equal to B\")\n",
       "}\n",
       "</script>\n"
      ],
      "text/plain": [
       "<IPython.core.display.HTML object>"
      ]
     },
     "metadata": {},
     "output_type": "display_data"
    }
   ],
   "source": [
    "%%html\n",
    "\n",
    "<script>\n",
    "var a = 3\n",
    "var b = 2\n",
    "if (a > b) {\n",
    "    console.log(\"A is greater than B\")\n",
    "} else if (a < b) {\n",
    "    console.log(\"B is greater than A\")\n",
    "} else if (a == b) {\n",
    "    console.log(\"A is equal to B\")\n",
    "}\n",
    "</script>"
   ]
  },
  {
   "cell_type": "code",
   "execution_count": 83,
   "metadata": {},
   "outputs": [
    {
     "data": {
      "application/javascript": [
       "\n",
       "var alphabet = \"abcdefghijklmnopqrstuvwxyz\";\n",
       "var alphabetList = [];\n",
       "\n",
       "for (var i = 0; i < alphabet.length; i++) {\n",
       "\talphabetList.push(alphabet[i]);\n",
       "}\n",
       "\n",
       "console.log(alphabetList);\n"
      ],
      "text/plain": [
       "<IPython.core.display.Javascript object>"
      ]
     },
     "metadata": {},
     "output_type": "display_data"
    }
   ],
   "source": [
    "%%js\n",
    "\n",
    "var alphabet = \"abcdefghijklmnopqrstuvwxyz\";\n",
    "var alphabetList = [];\n",
    "\n",
    "for (var i = 0; i < alphabet.length; i++) {\n",
    "\talphabetList.push(alphabet[i]);\n",
    "}\n",
    "\n",
    "console.log(alphabetList);"
   ]
  },
  {
   "cell_type": "code",
   "execution_count": 96,
   "metadata": {},
   "outputs": [
    {
     "data": {
      "application/javascript": [
       "\n",
       "var alphabet = \"abcdefghijklmnopqrstuvwxyz\";\n",
       "var alphabetList = [];\n",
       "\n",
       "for (var i = 0; i < alphabet.length; i++) {\n",
       "\talphabetList.push(alphabet[i]);\n",
       "}\n",
       "\n",
       "console.log(alphabetList);\n",
       "\n",
       "var letterNumber = 5\n",
       "\n",
       "for (var i = 0; i < alphabetList.length; i++) {\n",
       "\tif (i == letterNumber) {\n",
       "\t\tconsole.log(alphabet[letterNumber-1] + \" is letter number 1 in the alphabet\")\n",
       "\t}\n",
       "}\n",
       "\n",
       "// Should output:\n",
       "// \"e\" is letter number 5 in the alphabet\n"
      ],
      "text/plain": [
       "<IPython.core.display.Javascript object>"
      ]
     },
     "metadata": {},
     "output_type": "display_data"
    }
   ],
   "source": [
    "%%js\n",
    "\n",
    "var alphabet = \"abcdefghijklmnopqrstuvwxyz\";\n",
    "var alphabetList = [];\n",
    "\n",
    "for (var i = 0; i < alphabet.length; i++) {\n",
    "\talphabetList.push(alphabet[i]);\n",
    "}\n",
    "\n",
    "console.log(alphabetList);\n",
    "\n",
    "var letterNumber = 5\n",
    "\n",
    "for (var i = 0; i < alphabetList.length; i++) {\n",
    "\tif (i == letterNumber) {\n",
    "\t\tconsole.log(alphabet[letterNumber-1] + \" is letter number 1 in the alphabet\")\n",
    "\t}\n",
    "}\n",
    "\n",
    "// Should output:\n",
    "// \"e\" is letter number 5 in the alphabet"
   ]
  },
  {
   "cell_type": "code",
   "execution_count": 100,
   "metadata": {},
   "outputs": [
    {
     "data": {
      "application/javascript": [
       "\n",
       "let odds = [];\n",
       "let i = 1;\n",
       "\n",
       "while (i <= 10) {\n",
       "  odds.push(i);\n",
       "  i += 2;\n",
       "}\n",
       "\n",
       "console.log(odds);\n"
      ],
      "text/plain": [
       "<IPython.core.display.Javascript object>"
      ]
     },
     "metadata": {},
     "output_type": "display_data"
    }
   ],
   "source": [
    "%%js\n",
    "\n",
    "let odds = [];\n",
    "let i = 1;\n",
    "\n",
    "while (i <= 10) {\n",
    "  odds.push(i);\n",
    "  i += 2;\n",
    "}\n",
    "\n",
    "console.log(odds);"
   ]
  },
  {
   "cell_type": "code",
   "execution_count": 102,
   "metadata": {},
   "outputs": [
    {
     "data": {
      "application/javascript": [
       "\n",
       "var numbers = []\n",
       "var newNumbers = []\n",
       "var i = 0\n",
       "\n",
       "while (i <= 100) {\n",
       "    numbers.push(i)\n",
       "    i += 1\n",
       "}\n",
       "for (var i of numbers) {\n",
       "    if (numbers[i] % 5 == 0)\n",
       "        newNumbers.push(numbers[i])\n",
       "    else if (numbers[i] % 2 == 0)\n",
       "        newNumbers.push(numbers[i])\n",
       "}\n",
       "console.log(newNumbers)\n"
      ],
      "text/plain": [
       "<IPython.core.display.Javascript object>"
      ]
     },
     "metadata": {},
     "output_type": "display_data"
    }
   ],
   "source": [
    "%%js\n",
    "\n",
    "var numbers = []\n",
    "var newNumbers = []\n",
    "var i = 0\n",
    "\n",
    "while (i <= 100) {\n",
    "    numbers.push(i)\n",
    "    i += 1\n",
    "}\n",
    "for (var i of numbers) {\n",
    "    if (numbers[i] % 5 == 0)\n",
    "        newNumbers.push(numbers[i])\n",
    "    else if (numbers[i] % 2 == 0)\n",
    "        newNumbers.push(numbers[i])\n",
    "}\n",
    "console.log(newNumbers)"
   ]
  },
  {
   "cell_type": "code",
   "execution_count": 110,
   "metadata": {},
   "outputs": [
    {
     "data": {
      "application/javascript": [
       "\n",
       "var menu =  {\"burger\": 3.99,\n",
       "         \"fries\": 1.99,\n",
       "         \"drink\": 0.99}\n",
       "var total = 0\n",
       "\n",
       "//shows the user the menu and prompts them to select an item\n",
       "console.log(\"Menu\")\n",
       "for (var item in menu) {\n",
       "    console.log(item + \"  $\" + menu[item].toFixed(2)) //why is toFixed used?\n",
       "}\n",
       "\n",
       "//ideally the code should support mutliple items\n",
       "var item = \"burger\"\n",
       "while (item != \"q\") {\n",
       "    item = prompt(\"What item do you want, \\\"q\\\" to quit\")\n",
       "    if ([\"burger\",\"fries\",\"drink\"].includes(item)) {\n",
       "        total += menu[item]\n",
       "    }\n",
       "}\n",
       "    \n",
       "//code should add the price of the menu items selected by the user \n",
       "console.log(\"$\" + total.toFixed(2))\n"
      ],
      "text/plain": [
       "<IPython.core.display.Javascript object>"
      ]
     },
     "metadata": {},
     "output_type": "display_data"
    }
   ],
   "source": [
    "%%js\n",
    "\n",
    "var menu =  {\"burger\": 3.99,\n",
    "         \"fries\": 1.99,\n",
    "         \"drink\": 0.99}\n",
    "var total = 0\n",
    "\n",
    "//shows the user the menu and prompts them to select an item\n",
    "console.log(\"Menu\")\n",
    "for (var item in menu) {\n",
    "    console.log(item + \"  $\" + menu[item].toFixed(2)) //why is toFixed used?\n",
    "}\n",
    "\n",
    "//ideally the code should support mutliple items\n",
    "var item = \"burger\"\n",
    "while (item != \"q\") {\n",
    "    item = prompt(\"What item do you want, \\\"q\\\" to quit\")\n",
    "    if ([\"burger\",\"fries\",\"drink\"].includes(item)) {\n",
    "        total += menu[item]\n",
    "    }\n",
    "}\n",
    "    \n",
    "//code should add the price of the menu items selected by the user \n",
    "console.log(\"$\" + total.toFixed(2))"
   ]
  }
 ],
 "metadata": {
  "kernelspec": {
   "display_name": "Python 3 (ipykernel)",
   "language": "python",
   "name": "python3"
  },
  "language_info": {
   "codemirror_mode": {
    "name": "ipython",
    "version": 3
   },
   "file_extension": ".py",
   "mimetype": "text/x-python",
   "name": "python",
   "nbconvert_exporter": "python",
   "pygments_lexer": "ipython3",
   "version": "3.10.12"
  }
 },
 "nbformat": 4,
 "nbformat_minor": 4
}

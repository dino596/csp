{
 "cells": [
  {
   "cell_type": "markdown",
   "metadata": {},
   "source": [
    "# Python Pair Showcase"
   ]
  },
  {
   "cell_type": "markdown",
   "metadata": {},
   "source": [
    "## Python IO"
   ]
  },
  {
   "cell_type": "code",
   "execution_count": null,
   "metadata": {},
   "outputs": [],
   "source": [
    "import getpass # for getpass.getuser() to get username\n",
    "import random # to randomize the order of the questions\n",
    "\n",
    "print(\"Hi \" + getpass.getuser()) \n",
    "\n",
    "correct = 0 # number of correct questions\n",
    "i = 1 # used to iterate through the dictionary\n",
    "\n",
    "# dictionary of questions\n",
    "# key - question\n",
    "# value - answer\n",
    "questions = {\n",
    "    \"What python command will output to console?\": \"print\",\n",
    "    \"What python command asks for input from the user?\": \"input\",\n",
    "    \"What python command defines a function?\": \"def\"\n",
    "}\n",
    "\n",
    "keys = list(questions.keys()) # sets the keys of a dictionary into a list\n",
    "random.shuffle(keys) # shuffles the questions for funzies\n",
    "\n",
    "letters = ['F', 'F', 'F', 'F', 'F', 'F', 'D', 'C', 'B', 'A', 'A']\n",
    "\n",
    "# ask question\n",
    "# input - the question and the question number\n",
    "# output - the response to the question\n",
    "def ask_question(question, i):\n",
    "    print(f\"Question{str(i)} : \" + question) # asks Question (number): question\n",
    "    msg = input() # sets msg as the response\n",
    "    return msg\n",
    "\n",
    "# compares the response to the answer\n",
    "# input - the response and the answer\n",
    "# output - 0 if incorrect, 1 if correct\n",
    "def check_response(question, response):\n",
    "    if questions[question] == response:\n",
    "        print(\"correct\")\n",
    "        return 1\n",
    "    else:\n",
    "        print(f\"incorrect, the answer was \\\"{questions[question]}\\\"\") # gives user the answer\n",
    "        return 0\n",
    "\n",
    "for question in keys:\n",
    "    response = ask_question(question, i)\n",
    "    if check_response(question, response): # if correct\n",
    "        correct += 1 # number of correct\n",
    "    i += 1 # question number\n",
    "    \n",
    "print(f\"score: {str(correct)}/{str(len(questions))} or {str(int(correct/len(questions)*100))}%\") # correct / number of questions\n",
    "\n",
    "print(\"letter grade: \" + str(letters[int(correct/len(questions)*10)]))"
   ]
  },
  {
   "cell_type": "markdown",
   "metadata": {},
   "source": [
    "## Python Tricks"
   ]
  },
  {
   "cell_type": "code",
   "execution_count": 7,
   "metadata": {},
   "outputs": [
    {
     "name": "stdout",
     "output_type": "stream",
     "text": [
      "Input numbers spaced by commas: 2, 5, 6\n",
      "Mean: 4.333333333333333\n",
      "Median: 5.0\n",
      "Mode: 2.0\n",
      "Range: 4.0\n",
      "current directory: /home/arthurliu/vscode/csp/_notebooks\n"
     ]
    },
    {
     "data": {
      "text/plain": [
       "0"
      ]
     },
     "execution_count": 7,
     "metadata": {},
     "output_type": "execute_result"
    }
   ],
   "source": [
    "import statistics # used for mean, median, mode\n",
    "import os # output the current directory name\n",
    "\n",
    "print(\"Input numbers spaced by commas:\", end=\" \")\n",
    "\n",
    "try: # in case of ValueError\n",
    "    values = input().split(\",\") # inputted values\n",
    "    for i in range(len(values)): # convert list fom string to float\n",
    "        values[i] = float(values[i])\n",
    "\n",
    "    print(\"Mean: \" + str(statistics.mean(values)))\n",
    "    print(\"Median: \" + str(statistics.median(values)))\n",
    "    print(\"Mode: \" + str(statistics.mode(values)))\n",
    "    print(\"Range: \" + str(max(values) - min(values)))\n",
    "    \n",
    "except ValueError: # if the user inputted a non-number character\n",
    "    print(\"Please enter a list of numbers seperated by commas\")\n",
    "\n",
    "print(\"current directory:\", end=\" \")\n",
    "os.system(\"pwd\") # output current directory name"
   ]
  }
 ],
 "metadata": {
  "kernelspec": {
   "display_name": "Python 3 (ipykernel)",
   "language": "python",
   "name": "python3"
  },
  "language_info": {
   "codemirror_mode": {
    "name": "ipython",
    "version": 3
   },
   "file_extension": ".py",
   "mimetype": "text/x-python",
   "name": "python",
   "nbconvert_exporter": "python",
   "pygments_lexer": "ipython3",
   "version": "3.10.12"
  }
 },
 "nbformat": 4,
 "nbformat_minor": 2
}

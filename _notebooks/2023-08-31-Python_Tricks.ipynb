{
 "cells": [
  {
   "cell_type": "code",
   "execution_count": 18,
   "id": "4ee0b7ad",
   "metadata": {},
   "outputs": [
    {
     "name": "stdout",
     "output_type": "stream",
     "text": [
      "💀\n"
     ]
    }
   ],
   "source": [
    "import emoji\n",
    "print(emoji.emojize(\":skull:\"))"
   ]
  },
  {
   "cell_type": "code",
   "execution_count": null,
   "id": "62ab0e41",
   "metadata": {},
   "outputs": [],
   "source": []
  }
 ],
 "metadata": {
  "kernelspec": {
   "display_name": "Python 3 (ipykernel)",
   "language": "python",
   "name": "python3"
  },
  "language_info": {
   "codemirror_mode": {
    "name": "ipython",
    "version": 3
   },
   "file_extension": ".py",
   "mimetype": "text/x-python",
   "name": "python",
   "nbconvert_exporter": "python",
   "pygments_lexer": "ipython3",
   "version": "3.10.12"
  }
 },
 "nbformat": 4,
 "nbformat_minor": 5
}

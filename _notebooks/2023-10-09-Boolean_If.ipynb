{
 "cells": [
  {
   "cell_type": "markdown",
   "metadata": {},
   "source": [
    "---\n",
    "toc: false\n",
    "comments: false\n",
    "layout: post\n",
    "title: Boolean, If Lesson\n",
    "description: Team LEIA\n",
    "type: hacks\n",
    "courses: { compsci: {week: 8} }\n",
    "---"
   ]
  },
  {
   "cell_type": "markdown",
   "metadata": {},
   "source": [
    "# Boolean\n",
    "\n",
    "- A Boolean value is either true or false.\n",
    "- A Boolean expression produces a Boolean value (true or false) when evaluated."
   ]
  },
  {
   "cell_type": "markdown",
   "metadata": {},
   "source": [
    "## <mark>Conditional (\"if\") statements</mark>\n",
    "\n",
    "- Affect the sequential flow of control by executing different statements based on the value of a Boolean expression."
   ]
  },
  {
   "cell_type": "code",
   "execution_count": null,
   "metadata": {
    "vscode": {
     "languageId": "html"
    }
   },
   "outputs": [],
   "source": [
    "IF (condition)\n",
    "{\n",
    "\t<block of statements>\n",
    "}\n",
    "\n",
    "The code in <block of statements> is executed if the Boolean expression condition evaluates to true; no action is taken if condition evaluates to false.\n",
    "\n",
    "IF (condition)\n",
    "{\n",
    "\t<block of statements>\n",
    "}\n",
    "ELSE\n",
    "{\n",
    "\t<second block of statements>\n",
    "}\n",
    "\n",
    "The code in the first <block of statements> is executed if the Boolean expression condition evaluates to true; otherwise, the code in <second block of statements> is executed."
   ]
  },
  {
   "cell_type": "markdown",
   "metadata": {},
   "source": [
    "<b>Example:</b> Calculate the sum of 2 numbers. If the sum is greater than 10, display 10; otherwise, display the sum."
   ]
  },
  {
   "cell_type": "code",
   "execution_count": null,
   "metadata": {
    "vscode": {
     "languageId": "html"
    }
   },
   "outputs": [],
   "source": [
    "num1 = INPUT\n",
    "num2 = INPUT\n",
    "sum = num1 + num2\n",
    "IF (sum > 10)\n",
    "{\n",
    "\tDISPLAY (10)\n",
    "}\n",
    "ELSE\n",
    "{\n",
    "\tDISPLAY (sum)\n",
    "}"
   ]
  },
  {
   "cell_type": "markdown",
   "metadata": {},
   "source": [
    "# Hack 1\n",
    "\n",
    "- Add a variable that represents an age.\n",
    "\n",
    "- Add an 'if' and 'print' function that says \"You are an adult\" if your age is greater than or equal to 18.\n",
    "\n",
    "- Make a function that prints \"You are a minor\" with the else function."
   ]
  },
  {
   "cell_type": "code",
   "execution_count": 3,
   "metadata": {},
   "outputs": [
    {
     "name": "stdout",
     "output_type": "stream",
     "text": [
      "You are a minor\n"
     ]
    }
   ],
   "source": [
    "## YOUR CODE HERE\n",
    "\n",
    "age = 1\n",
    "if age >= 18:\n",
    "    print(\"You are an adult\")\n",
    "else:\n",
    "    print(\"You are a minor\")"
   ]
  },
  {
   "cell_type": "markdown",
   "metadata": {},
   "source": [
    "## <mark><b>Relational operators:</b></mark> \n",
    "- Used to test the relationship between 2 variables, expressions, or values. These relational operators are used for comparisons and they evaluate to a Boolean value (true or false).\n",
    "\n",
    "<b>Ex.</b> a == b evaluates to true if a and b are equal, otherwise evaluates to false\n",
    "\n",
    "- a == b (equals)\t\n",
    "- a != b (not equal to)\n",
    "- a > b (greater than)\n",
    "- a < b (less than)\n",
    "- a >= b (greater than or equal to)\n",
    "- a <= b (less than or equal to)"
   ]
  },
  {
   "cell_type": "markdown",
   "metadata": {},
   "source": [
    "<b>Example:</b> The legal age to work in California is 14 years old. How would we write a Boolean expression to check if someone is at least 14 years old?\n",
    "\n",
    "age >= 14"
   ]
  },
  {
   "cell_type": "markdown",
   "metadata": {},
   "source": [
    "<b>Example:</b> Write a Boolean expression to check if the average of height1, height2, and height3 is at least 65 inches.\n",
    "\n",
    "(height1 + height2 + height3) / 3 >= 65"
   ]
  },
  {
   "cell_type": "markdown",
   "metadata": {},
   "source": [
    "# Hack 2\n",
    "\n",
    "- Make a variable called 'is_raining' and set it to 'True\".\n",
    "\n",
    "- Make an if statement that prints \"Bring an umbrella!\" if it is true\n",
    "\n",
    "- Make an else statement that says \"The weather is clear\"."
   ]
  },
  {
   "cell_type": "code",
   "execution_count": 4,
   "metadata": {},
   "outputs": [
    {
     "name": "stdout",
     "output_type": "stream",
     "text": [
      "Bring an umbrella!\n"
     ]
    }
   ],
   "source": [
    "## YOUR CODE HERE\n",
    "\n",
    "is_raining = True\n",
    "if is_raining:\n",
    "    print(\"Bring an umbrella!\")\n",
    "else:\n",
    "    print(\"The weather is clear\")"
   ]
  },
  {
   "cell_type": "markdown",
   "metadata": {},
   "source": [
    "## <mark><b>Logical operators:</b></mark>\n",
    "Used to evaluate multiple conditions to produce a single Boolean value.\n",
    "\n",
    "- <b>NOT</b>\tevaluates to true if condition is false, otherwise evaluates to false\n",
    "- <b>AND</b>\tevaluates to true if both conditions are true, otherwise evaluates to false\n",
    "- <b>OR</b>\tevaluates to true if either condition is true or if both conditions are true, otherwise evaluates to false"
   ]
  },
  {
   "cell_type": "markdown",
   "metadata": {},
   "source": [
    "<b>Example:</b> You win the game if you score at least 10 points and have 5 lives left or if you score at least 50 points and have more than 0 lives left. Write the Boolean expression for this scenario.\n",
    "\n",
    "(score >= 10 AND lives == 5) OR (score == 50 AND lives > 0)"
   ]
  },
  {
   "cell_type": "markdown",
   "metadata": {},
   "source": [
    "## <mark><b>Relational and logical operators:</b></mark>\n",
    "\n",
    "<b>Example:</b> These expressions are all different but will produce the same result.\n",
    "\n",
    "- age >= 16\n",
    "- age > 16 OR age == 16\n",
    "- NOT age < 16"
   ]
  },
  {
   "cell_type": "markdown",
   "metadata": {},
   "source": [
    "# Hack 3\n",
    "\n",
    "- Make a function to randomize numbers between 0 and 100 to be assigned to variables a and b using random.randint\n",
    "\n",
    "- Print the values of the variables\n",
    "\n",
    "- Print the relationship of the variables; a is more than, same as, or less than b"
   ]
  },
  {
   "cell_type": "code",
   "execution_count": 6,
   "metadata": {},
   "outputs": [
    {
     "name": "stdout",
     "output_type": "stream",
     "text": [
      "a: 57\n",
      "b: 60\n",
      "a < b\n"
     ]
    }
   ],
   "source": [
    "## YOUR CODE HERE\n",
    "\n",
    "import random\n",
    "\n",
    "a = random.randint(0, 100)\n",
    "b = random.randint(0, 100)\n",
    "\n",
    "print(\"a:\", a)\n",
    "print(\"b:\", b)\n",
    "\n",
    "if (a > b):\n",
    "    print(\"a > b\")\n",
    "elif (a == b):\n",
    "    print(\"a = b\")\n",
    "elif (a < b):\n",
    "    print(\"a < b\")"
   ]
  },
  {
   "cell_type": "markdown",
   "metadata": {},
   "source": [
    "## <b>Homework</b>\n",
    "\n",
    "### Criteria for above 90%:\n",
    "- Add more questions relating to Boolean rather than only one per topic (ideas: expand on conditional statements, relational/logical operators)\n",
    "- Add a way to organize the user scores (possibly some kind of leaderboard, keep track of high score vs. current score, etc. Get creative!)\n",
    "- Remember to test your code to make sure it functions correctly."
   ]
  },
  {
   "cell_type": "code",
   "execution_count": null,
   "metadata": {},
   "outputs": [],
   "source": []
  },
  {
   "cell_type": "code",
   "execution_count": 3,
   "metadata": {},
   "outputs": [
    {
     "name": "stdin",
     "output_type": "stream",
     "text": [
      "Enter your name:  a\n"
     ]
    },
    {
     "name": "stdout",
     "output_type": "stream",
     "text": [
      "Hello, a running /usr/bin/python3\n",
      "You will be asked 10 questions.\n"
     ]
    },
    {
     "name": "stdin",
     "output_type": "stream",
     "text": [
      "Are you ready to take a test? a\n"
     ]
    },
    {
     "name": "stdout",
     "output_type": "stream",
     "text": [
      "\u001b[91mQuestion: \u001b[94mWhat is one Boolean Value?\n"
     ]
    },
    {
     "name": "stdin",
     "output_type": "stream",
     "text": [
      " a\n"
     ]
    },
    {
     "name": "stdout",
     "output_type": "stream",
     "text": [
      "\u001b[91mQuestion: \u001b[94mWhat is the boolean for not true?\n"
     ]
    },
    {
     "name": "stdin",
     "output_type": "stream",
     "text": [
      " a\n"
     ]
    },
    {
     "name": "stdout",
     "output_type": "stream",
     "text": [
      "\u001b[91mQuestion: \u001b[94mWrite a Boolean Expression to represent variable 'grade' is True.\n"
     ]
    },
    {
     "name": "stdin",
     "output_type": "stream",
     "text": [
      " a\n"
     ]
    },
    {
     "name": "stdout",
     "output_type": "stream",
     "text": [
      "\u001b[91mQuestion: \u001b[94mWrite a Boolean Expression to represent variable 'result' is not True.\n"
     ]
    },
    {
     "name": "stdin",
     "output_type": "stream",
     "text": [
      " a\n"
     ]
    },
    {
     "name": "stdout",
     "output_type": "stream",
     "text": [
      "\u001b[91mQuestion: \u001b[94mWhat is a conditional keyword?\n"
     ]
    },
    {
     "name": "stdin",
     "output_type": "stream",
     "text": [
      " a\n"
     ]
    },
    {
     "name": "stdout",
     "output_type": "stream",
     "text": [
      "\u001b[91mQuestion: \u001b[94mWrite a Boolean Expression to represent variable 'mass' is greater than 5.\n"
     ]
    },
    {
     "name": "stdin",
     "output_type": "stream",
     "text": [
      " a\n"
     ]
    },
    {
     "name": "stdout",
     "output_type": "stream",
     "text": [
      "\u001b[91mQuestion: \u001b[94mWrite a Boolean Expression to represent variable 'score' is less or equal to 2.\n"
     ]
    },
    {
     "name": "stdin",
     "output_type": "stream",
     "text": [
      " a\n"
     ]
    },
    {
     "name": "stdout",
     "output_type": "stream",
     "text": [
      "\u001b[91mQuestion: \u001b[94mWrite a Conditional Statement to represent variable 'time' is greater or equal to variable 'distance'.\n"
     ]
    },
    {
     "name": "stdin",
     "output_type": "stream",
     "text": [
      " a\n"
     ]
    },
    {
     "name": "stdout",
     "output_type": "stream",
     "text": [
      "\u001b[91mQuestion: \u001b[94mWrite a Conditional Statement to represent variable 'number' is not equal to variable 'speed'.\n"
     ]
    },
    {
     "name": "stdin",
     "output_type": "stream",
     "text": [
      " a\n"
     ]
    },
    {
     "name": "stdout",
     "output_type": "stream",
     "text": [
      "\u001b[91mQuestion: \u001b[94mWhat is an example of a Logical Operator?\n"
     ]
    },
    {
     "name": "stdin",
     "output_type": "stream",
     "text": [
      " a\n"
     ]
    },
    {
     "name": "stdout",
     "output_type": "stream",
     "text": [
      "\u001b[95mscore: 0/10 or 0.0%\n",
      "\u001b[93mletter grade: F\n",
      "\u001b[95mA random user scored 5, and you got a lower score.\n"
     ]
    }
   ],
   "source": [
    "#HOMEWORK\n",
    "\n",
    "\n",
    "# The quiz contains questions related to Boolean values, Boolean expressions,\n",
    "# conditional statements, relational operators, and logical operators.\n",
    "\n",
    "# Import necessary modules\n",
    "import getpass  # Module to get the user's name\n",
    "import sys  # Module to access system-related information\n",
    "import random\n",
    "\n",
    "letters = ['F', 'F', 'F', 'F', 'F', 'F', 'D', 'C', 'B', 'A', 'A']\n",
    "\n",
    "# Function to ask a question and get a response\n",
    "def question_with_response(prompt):\n",
    "    # Print the question\n",
    "    print(\"\\033[91mQuestion: \" + prompt)\n",
    "    # Get user input as the response\n",
    "    msg = input()\n",
    "    return msg\n",
    "\n",
    "# Define the number of questions and initialize the correct answers counter\n",
    "questions = 10\n",
    "correct = 0\n",
    "\n",
    "# Personalized greeting message\n",
    "# Collect the student's name\n",
    "user_name = input(\"Enter your name: \")\n",
    "print('Hello, ' + user_name + \" running \" + sys.executable)\n",
    "print(\"You will be asked \" + str(questions) + \" questions.\")\n",
    "answer = input(\"Are you ready to take a test?\")\n",
    "\n",
    "# Question 1: Boolean Basics \n",
    "# Ask a question about Boolean values and check the response\n",
    "# Provide feedback based on the correctness of the response\n",
    "\n",
    "answer = question_with_response(\"\\033[94mWhat is one Boolean Value?\")\n",
    "if (answer == \"True\" or answer == \"False\"):\n",
    "    print(\"Correct!\")\n",
    "    correct += 1\n",
    "\n",
    "answer = question_with_response(\"\\033[94mWhat is the boolean for not true?\")\n",
    "if (answer == \"False\"):\n",
    "    print(\"Correct!\")\n",
    "    correct += 1\n",
    "\n",
    "# Question 2: Boolean Expressions\n",
    "# Ask a question about Boolean expressions and their importance in programming\n",
    "# Provide feedback based on the correctness of the response\n",
    "\n",
    "answer = question_with_response(\"\\033[94mWrite a Boolean Expression to represent variable 'grade' is True.\")\n",
    "if (answer == \"grade == True\" or answer == \"grade==True\"):\n",
    "    print(\"Correct!\")\n",
    "    correct += 1\n",
    "\n",
    "answer = question_with_response(\"\\033[94mWrite a Boolean Expression to represent variable 'result' is not True.\")\n",
    "if (answer == \"result != True\" or answer == \"result!=True\"):\n",
    "    print(\"Correct!\")\n",
    "    correct += 1\n",
    "\n",
    "# Question 3: Conditional Statements\n",
    "# Ask a question about the purpose of conditional (if-else) statements in programming\n",
    "# Provide feedback based on the correctness of the response\n",
    "\n",
    "answer = question_with_response(\"\\033[94mWhat is a conditional keyword?\")\n",
    "if (answer == \"if\" or answer == \"else\"):\n",
    "    print(\"Correct!\")\n",
    "    correct += 1\n",
    "\n",
    "# Question 4: Relational Operators\n",
    "# Ask a question about common relational operators in programming and provide examples\n",
    "# Provide feedback based on the correctness of the response\n",
    "\n",
    "answer = question_with_response(\"\\033[94mWrite a Boolean Expression to represent variable 'mass' is greater than 5.\")\n",
    "if (answer == \"mass > 5\" or answer == \"mass>5\"):\n",
    "    print(\"Correct!\")\n",
    "    correct += 1\n",
    "\n",
    "answer = question_with_response(\"\\033[94mWrite a Boolean Expression to represent variable 'score' is less or equal to 2.\")\n",
    "if (answer == \"score <= 2\" or answer == \"score<=2\"):\n",
    "    print(\"Correct!\")\n",
    "    correct += 1\n",
    "\n",
    "answer = question_with_response(\"\\033[94mWrite a Conditional Statement to represent variable 'time' is greater or equal to variable 'distance'.\")\n",
    "if (answer == \"time >= distance\" or answer == \"time>=distance\"):\n",
    "    print(\"Correct!\")\n",
    "    correct += 1\n",
    "\n",
    "answer = question_with_response(\"\\033[94mWrite a Conditional Statement to represent variable 'number' is not equal to variable 'speed'.\")\n",
    "if (answer == \"number != speed\" or answer == \"number!=speed\"):\n",
    "    print(\"Correct!\")\n",
    "    correct += 1\n",
    "\n",
    "# Question 5: Logical Operators\n",
    "# Ask a question about the use of logical operators in programming and provide examples\n",
    "# Provide feedback based on the correctness of the response\n",
    "\n",
    "answer = question_with_response(\"\\033[94mWhat is an example of a Logical Operator?\")\n",
    "if (answer == \"and\" or answer == \"or\" or answer == \"not\"):\n",
    "    print(\"Correct!\")\n",
    "    correct += 1\n",
    "\n",
    "random_score = random.randint(0, questions)\n",
    "\n",
    "if (random_score > correct):\n",
    "    msg = \"a lower score.\"\n",
    "if (random_score < correct):\n",
    "    msg = \"a higher score.\"\n",
    "if (random_score == correct):\n",
    "    msg = \"the same score.\"\n",
    "\n",
    "# Display the final score\n",
    "# Calculate the percentage of correct answers and provide feedback\n",
    "print(f\"\\033[95mscore: {correct}/{questions} or {correct/questions*100}%\") # correct / number of questions\n",
    "\n",
    "print(\"\\033[93mletter grade:\", letters[int(correct/questions*10)])\n",
    "\n",
    "print(f\"\\033[95mA random user scored {random_score}, and you got {msg}\")"
   ]
  },
  {
   "cell_type": "code",
   "execution_count": null,
   "metadata": {},
   "outputs": [],
   "source": []
  }
 ],
 "metadata": {
  "kernelspec": {
   "display_name": "Python 3 (ipykernel)",
   "language": "python",
   "name": "python3"
  },
  "language_info": {
   "codemirror_mode": {
    "name": "ipython",
    "version": 3
   },
   "file_extension": ".py",
   "mimetype": "text/x-python",
   "name": "python",
   "nbconvert_exporter": "python",
   "pygments_lexer": "ipython3",
   "version": "3.10.12"
  }
 },
 "nbformat": 4,
 "nbformat_minor": 4
}

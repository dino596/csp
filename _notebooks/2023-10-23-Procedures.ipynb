{
 "cells": [
  {
   "cell_type": "markdown",
   "id": "68ae0a32-2e10-4767-9c47-2a64b22c293c",
   "metadata": {},
   "source": [
    "# Function Parameters\n",
    "A function can have one or more parameters that can be passed into the function as local variables to use in the procedural function.\n",
    "The variables that can be passed in the function are called parameters.\n",
    "The data passed in when the function is called are called arguments."
   ]
  },
  {
   "cell_type": "code",
   "execution_count": null,
   "id": "2061f3f9-06b1-446d-bcec-477faa082e32",
   "metadata": {},
   "outputs": [],
   "source": [
    "def triangle_area(length, width): # passed in two variables: length and width, returns area\n",
    "    area = 1/2 * length * width # calculates area from the length and width\n",
    "    print(\"length:\", length)\n",
    "    print(\"width:\", width)\n",
    "    return area # returns area\n",
    "\n",
    "# examples\n",
    "print(triangle_area(3, 4)) # the arguments here are 3 and 4\n",
    "print(triangle_area(6, 8))\n",
    "print(triangle_area(12, 89))"
   ]
  }
 ],
 "metadata": {
  "kernelspec": {
   "display_name": "Python 3 (ipykernel)",
   "language": "python",
   "name": "python3"
  },
  "language_info": {
   "codemirror_mode": {
    "name": "ipython",
    "version": 3
   },
   "file_extension": ".py",
   "mimetype": "text/x-python",
   "name": "python",
   "nbconvert_exporter": "python",
   "pygments_lexer": "ipython3",
   "version": "3.10.12"
  }
 },
 "nbformat": 4,
 "nbformat_minor": 5
}
